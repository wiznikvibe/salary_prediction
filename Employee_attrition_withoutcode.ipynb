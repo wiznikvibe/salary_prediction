{
  "cells": [
    {
      "cell_type": "markdown",
      "metadata": {
        "id": "xr2fDvz_oNWV"
      },
      "source": [
        "# <h1><center>**`Employee Attrition Problem`**</center></h1>"
      ]
    },
    {
      "cell_type": "markdown",
      "metadata": {
        "id": "T0uBUqHM32IA"
      },
      "source": [
        "### `Dataset Desciption`\n",
        "\n",
        "The dataset folder contains the following files:\n",
        "\n",
        "**train_dataset.csv** = 1000000 x 8\n",
        "\n",
        "**train_salaries.csv** = 1000000 x 2\n",
        "\n",
        "**test_dataset.csv** =  1000000 x 8\n",
        "\n",
        "Columns Provided in the Dataset\n",
        "\n",
        "1. **jobId** - Unique ID that indicates the employee\n",
        "2. **companyId** - Unique ID that idicates the company\n",
        "3. **jobType** - Shows which post the employee is working for the company\n",
        "4. **degree** - shows which degree is completed by the employee\n",
        "5. **major** - shows the field in which the employee is specialised in\n",
        "6. **industry** - show the industry in which the employee is working\n",
        "7. **yearsExperience** - years of working experience the employee is having\n",
        "8. **milesFromMetropolis** - distance in miles between the comapny and his house\n",
        "9. **salary** - salary given to the employee.\n",
        "eg. 250 indicates 2,50,000 in dollars"
      ]
    },
    {
      "cell_type": "code",
      "execution_count": 1,
      "metadata": {
        "id": "CsHP6c_HoIzw"
      },
      "outputs": [],
      "source": [
        "#importing necessary libraries\n",
        "import pandas as pd\n",
        "import matplotlib.pyplot as plt\n",
        "import seaborn as sns\n",
        "import numpy as np\n",
        "from scipy.stats import norm\n",
        "from sklearn.preprocessing import StandardScaler\n",
        "from scipy import stats\n",
        "import warnings\n",
        "warnings.filterwarnings('ignore')\n",
        "%matplotlib inline\n",
        "from tqdm import tqdm"
      ]
    },
    {
      "cell_type": "code",
      "execution_count": 2,
      "metadata": {
        "id": "ZlT9WjFJoIzy"
      },
      "outputs": [],
      "source": [
        "# Load the train_dataset, train_salaries, test_dataset(pass your file path from drive)\n",
        "\n",
        "data = pd.read_csv(\"./dataset/train_dataset.csv\")\n",
        "\n",
        "data_salaries = pd.read_csv(\"./dataset/train_salaries.csv\")\n",
        "\n",
        "test_df = pd.read_csv(\"./dataset/test_dataset.csv\")\n"
      ]
    },
    {
      "cell_type": "code",
      "execution_count": 3,
      "metadata": {
        "colab": {
          "base_uri": "https://localhost:8080/",
          "height": 206
        },
        "id": "YZZmQydesxmc",
        "outputId": "820b87f1-251f-4c27-e3d1-0d9f9540b83e"
      },
      "outputs": [
        {
          "data": {
            "text/html": [
              "<div>\n",
              "<style scoped>\n",
              "    .dataframe tbody tr th:only-of-type {\n",
              "        vertical-align: middle;\n",
              "    }\n",
              "\n",
              "    .dataframe tbody tr th {\n",
              "        vertical-align: top;\n",
              "    }\n",
              "\n",
              "    .dataframe thead th {\n",
              "        text-align: right;\n",
              "    }\n",
              "</style>\n",
              "<table border=\"1\" class=\"dataframe\">\n",
              "  <thead>\n",
              "    <tr style=\"text-align: right;\">\n",
              "      <th></th>\n",
              "      <th>jobId</th>\n",
              "      <th>companyId</th>\n",
              "      <th>jobType</th>\n",
              "      <th>degree</th>\n",
              "      <th>major</th>\n",
              "      <th>industry</th>\n",
              "      <th>yearsExperience</th>\n",
              "      <th>milesFromMetropolis</th>\n",
              "    </tr>\n",
              "  </thead>\n",
              "  <tbody>\n",
              "    <tr>\n",
              "      <th>0</th>\n",
              "      <td>JOB1362684407687</td>\n",
              "      <td>COMP37</td>\n",
              "      <td>CFO</td>\n",
              "      <td>MASTERS</td>\n",
              "      <td>MATH</td>\n",
              "      <td>HEALTH</td>\n",
              "      <td>10</td>\n",
              "      <td>83</td>\n",
              "    </tr>\n",
              "    <tr>\n",
              "      <th>1</th>\n",
              "      <td>JOB1362684407688</td>\n",
              "      <td>COMP19</td>\n",
              "      <td>CEO</td>\n",
              "      <td>HIGH_SCHOOL</td>\n",
              "      <td>NONE</td>\n",
              "      <td>WEB</td>\n",
              "      <td>3</td>\n",
              "      <td>73</td>\n",
              "    </tr>\n",
              "    <tr>\n",
              "      <th>2</th>\n",
              "      <td>JOB1362684407689</td>\n",
              "      <td>COMP52</td>\n",
              "      <td>VICE_PRESIDENT</td>\n",
              "      <td>DOCTORAL</td>\n",
              "      <td>PHYSICS</td>\n",
              "      <td>HEALTH</td>\n",
              "      <td>10</td>\n",
              "      <td>38</td>\n",
              "    </tr>\n",
              "    <tr>\n",
              "      <th>3</th>\n",
              "      <td>JOB1362684407690</td>\n",
              "      <td>COMP38</td>\n",
              "      <td>MANAGER</td>\n",
              "      <td>DOCTORAL</td>\n",
              "      <td>CHEMISTRY</td>\n",
              "      <td>AUTO</td>\n",
              "      <td>8</td>\n",
              "      <td>17</td>\n",
              "    </tr>\n",
              "    <tr>\n",
              "      <th>4</th>\n",
              "      <td>JOB1362684407691</td>\n",
              "      <td>COMP7</td>\n",
              "      <td>VICE_PRESIDENT</td>\n",
              "      <td>BACHELORS</td>\n",
              "      <td>PHYSICS</td>\n",
              "      <td>FINANCE</td>\n",
              "      <td>8</td>\n",
              "      <td>16</td>\n",
              "    </tr>\n",
              "  </tbody>\n",
              "</table>\n",
              "</div>"
            ],
            "text/plain": [
              "              jobId companyId         jobType       degree      major  \\\n",
              "0  JOB1362684407687    COMP37             CFO      MASTERS       MATH   \n",
              "1  JOB1362684407688    COMP19             CEO  HIGH_SCHOOL       NONE   \n",
              "2  JOB1362684407689    COMP52  VICE_PRESIDENT     DOCTORAL    PHYSICS   \n",
              "3  JOB1362684407690    COMP38         MANAGER     DOCTORAL  CHEMISTRY   \n",
              "4  JOB1362684407691     COMP7  VICE_PRESIDENT    BACHELORS    PHYSICS   \n",
              "\n",
              "  industry  yearsExperience  milesFromMetropolis  \n",
              "0   HEALTH               10                   83  \n",
              "1      WEB                3                   73  \n",
              "2   HEALTH               10                   38  \n",
              "3     AUTO                8                   17  \n",
              "4  FINANCE                8                   16  "
            ]
          },
          "execution_count": 3,
          "metadata": {},
          "output_type": "execute_result"
        }
      ],
      "source": [
        "# check the train data\n",
        "\n",
        "data.head()\n"
      ]
    },
    {
      "cell_type": "code",
      "execution_count": null,
      "metadata": {},
      "outputs": [],
      "source": [
        "data.info()"
      ]
    },
    {
      "cell_type": "code",
      "execution_count": null,
      "metadata": {
        "colab": {
          "base_uri": "https://localhost:8080/",
          "height": 206
        },
        "id": "k5wvgdYos2WO",
        "outputId": "fcee5bde-fe95-4d60-e8e4-f3f60f9f06d9"
      },
      "outputs": [],
      "source": [
        "# check the train data salarie\n",
        "data_salaries.head()"
      ]
    },
    {
      "cell_type": "code",
      "execution_count": null,
      "metadata": {
        "colab": {
          "base_uri": "https://localhost:8080/",
          "height": 206
        },
        "id": "Xh4014VGs8SJ",
        "outputId": "a280ebe9-f6e4-4b43-c01c-4c0bd3dec845"
      },
      "outputs": [],
      "source": [
        "# check the test data\n",
        "\n",
        "test_df.head()\n"
      ]
    },
    {
      "cell_type": "code",
      "execution_count": 4,
      "metadata": {
        "colab": {
          "base_uri": "https://localhost:8080/",
          "height": 424
        },
        "id": "Mc_LVMRqoIzz",
        "outputId": "f056e526-af13-4025-f001-ecc28e3393e7"
      },
      "outputs": [
        {
          "name": "stdout",
          "output_type": "stream",
          "text": [
            "<class 'pandas.core.frame.DataFrame'>\n",
            "Int64Index: 1000000 entries, 0 to 999999\n",
            "Data columns (total 9 columns):\n",
            " #   Column               Non-Null Count    Dtype \n",
            "---  ------               --------------    ----- \n",
            " 0   jobId                1000000 non-null  object\n",
            " 1   companyId            1000000 non-null  object\n",
            " 2   jobType              1000000 non-null  object\n",
            " 3   degree               1000000 non-null  object\n",
            " 4   major                1000000 non-null  object\n",
            " 5   industry             1000000 non-null  object\n",
            " 6   yearsExperience      1000000 non-null  int64 \n",
            " 7   milesFromMetropolis  1000000 non-null  int64 \n",
            " 8   salary               1000000 non-null  int64 \n",
            "dtypes: int64(3), object(6)\n",
            "memory usage: 76.3+ MB\n"
          ]
        }
      ],
      "source": [
        "# Adding salary data to train_dataset using merge on jobId\n",
        "train_data = data.merge(data_salaries,how='left', on='jobId')\n",
        "# train_data.head()\n",
        "train_data.info()\n"
      ]
    },
    {
      "cell_type": "code",
      "execution_count": 5,
      "metadata": {
        "id": "dEAbw8MIUNJw"
      },
      "outputs": [
        {
          "data": {
            "text/html": [
              "<div>\n",
              "<style scoped>\n",
              "    .dataframe tbody tr th:only-of-type {\n",
              "        vertical-align: middle;\n",
              "    }\n",
              "\n",
              "    .dataframe tbody tr th {\n",
              "        vertical-align: top;\n",
              "    }\n",
              "\n",
              "    .dataframe thead th {\n",
              "        text-align: right;\n",
              "    }\n",
              "</style>\n",
              "<table border=\"1\" class=\"dataframe\">\n",
              "  <thead>\n",
              "    <tr style=\"text-align: right;\">\n",
              "      <th></th>\n",
              "      <th>jobId</th>\n",
              "      <th>companyId</th>\n",
              "      <th>jobType</th>\n",
              "      <th>degree</th>\n",
              "      <th>major</th>\n",
              "      <th>industry</th>\n",
              "      <th>yearsExperience</th>\n",
              "      <th>milesFromMetropolis</th>\n",
              "      <th>salary</th>\n",
              "    </tr>\n",
              "  </thead>\n",
              "  <tbody>\n",
              "    <tr>\n",
              "      <th>818324</th>\n",
              "      <td>JOB1362685226011</td>\n",
              "      <td>COMP62</td>\n",
              "      <td>CTO</td>\n",
              "      <td>BACHELORS</td>\n",
              "      <td>CHEMISTRY</td>\n",
              "      <td>SERVICE</td>\n",
              "      <td>7</td>\n",
              "      <td>88</td>\n",
              "      <td>88</td>\n",
              "    </tr>\n",
              "    <tr>\n",
              "      <th>676357</th>\n",
              "      <td>JOB1362685084044</td>\n",
              "      <td>COMP28</td>\n",
              "      <td>JUNIOR</td>\n",
              "      <td>HIGH_SCHOOL</td>\n",
              "      <td>NONE</td>\n",
              "      <td>EDUCATION</td>\n",
              "      <td>15</td>\n",
              "      <td>56</td>\n",
              "      <td>62</td>\n",
              "    </tr>\n",
              "    <tr>\n",
              "      <th>268035</th>\n",
              "      <td>JOB1362684675722</td>\n",
              "      <td>COMP10</td>\n",
              "      <td>CEO</td>\n",
              "      <td>HIGH_SCHOOL</td>\n",
              "      <td>NONE</td>\n",
              "      <td>WEB</td>\n",
              "      <td>1</td>\n",
              "      <td>94</td>\n",
              "      <td>86</td>\n",
              "    </tr>\n",
              "    <tr>\n",
              "      <th>897005</th>\n",
              "      <td>JOB1362685304692</td>\n",
              "      <td>COMP22</td>\n",
              "      <td>JANITOR</td>\n",
              "      <td>HIGH_SCHOOL</td>\n",
              "      <td>NONE</td>\n",
              "      <td>FINANCE</td>\n",
              "      <td>2</td>\n",
              "      <td>1</td>\n",
              "      <td>90</td>\n",
              "    </tr>\n",
              "    <tr>\n",
              "      <th>885342</th>\n",
              "      <td>JOB1362685293029</td>\n",
              "      <td>COMP14</td>\n",
              "      <td>MANAGER</td>\n",
              "      <td>BACHELORS</td>\n",
              "      <td>COMPSCI</td>\n",
              "      <td>AUTO</td>\n",
              "      <td>5</td>\n",
              "      <td>27</td>\n",
              "      <td>132</td>\n",
              "    </tr>\n",
              "    <tr>\n",
              "      <th>...</th>\n",
              "      <td>...</td>\n",
              "      <td>...</td>\n",
              "      <td>...</td>\n",
              "      <td>...</td>\n",
              "      <td>...</td>\n",
              "      <td>...</td>\n",
              "      <td>...</td>\n",
              "      <td>...</td>\n",
              "      <td>...</td>\n",
              "    </tr>\n",
              "    <tr>\n",
              "      <th>880888</th>\n",
              "      <td>JOB1362685288575</td>\n",
              "      <td>COMP12</td>\n",
              "      <td>CEO</td>\n",
              "      <td>BACHELORS</td>\n",
              "      <td>PHYSICS</td>\n",
              "      <td>EDUCATION</td>\n",
              "      <td>18</td>\n",
              "      <td>4</td>\n",
              "      <td>170</td>\n",
              "    </tr>\n",
              "    <tr>\n",
              "      <th>462577</th>\n",
              "      <td>JOB1362684870264</td>\n",
              "      <td>COMP56</td>\n",
              "      <td>CEO</td>\n",
              "      <td>MASTERS</td>\n",
              "      <td>BUSINESS</td>\n",
              "      <td>EDUCATION</td>\n",
              "      <td>15</td>\n",
              "      <td>81</td>\n",
              "      <td>123</td>\n",
              "    </tr>\n",
              "    <tr>\n",
              "      <th>628289</th>\n",
              "      <td>JOB1362685035976</td>\n",
              "      <td>COMP0</td>\n",
              "      <td>SENIOR</td>\n",
              "      <td>BACHELORS</td>\n",
              "      <td>COMPSCI</td>\n",
              "      <td>OIL</td>\n",
              "      <td>11</td>\n",
              "      <td>41</td>\n",
              "      <td>95</td>\n",
              "    </tr>\n",
              "    <tr>\n",
              "      <th>200081</th>\n",
              "      <td>JOB1362684607768</td>\n",
              "      <td>COMP1</td>\n",
              "      <td>CTO</td>\n",
              "      <td>DOCTORAL</td>\n",
              "      <td>PHYSICS</td>\n",
              "      <td>FINANCE</td>\n",
              "      <td>15</td>\n",
              "      <td>94</td>\n",
              "      <td>177</td>\n",
              "    </tr>\n",
              "    <tr>\n",
              "      <th>973834</th>\n",
              "      <td>JOB1362685381521</td>\n",
              "      <td>COMP51</td>\n",
              "      <td>SENIOR</td>\n",
              "      <td>HIGH_SCHOOL</td>\n",
              "      <td>NONE</td>\n",
              "      <td>EDUCATION</td>\n",
              "      <td>22</td>\n",
              "      <td>17</td>\n",
              "      <td>90</td>\n",
              "    </tr>\n",
              "  </tbody>\n",
              "</table>\n",
              "<p>34914 rows × 9 columns</p>\n",
              "</div>"
            ],
            "text/plain": [
              "                   jobId companyId  jobType       degree      major  \\\n",
              "818324  JOB1362685226011    COMP62      CTO    BACHELORS  CHEMISTRY   \n",
              "676357  JOB1362685084044    COMP28   JUNIOR  HIGH_SCHOOL       NONE   \n",
              "268035  JOB1362684675722    COMP10      CEO  HIGH_SCHOOL       NONE   \n",
              "897005  JOB1362685304692    COMP22  JANITOR  HIGH_SCHOOL       NONE   \n",
              "885342  JOB1362685293029    COMP14  MANAGER    BACHELORS    COMPSCI   \n",
              "...                  ...       ...      ...          ...        ...   \n",
              "880888  JOB1362685288575    COMP12      CEO    BACHELORS    PHYSICS   \n",
              "462577  JOB1362684870264    COMP56      CEO      MASTERS   BUSINESS   \n",
              "628289  JOB1362685035976     COMP0   SENIOR    BACHELORS    COMPSCI   \n",
              "200081  JOB1362684607768     COMP1      CTO     DOCTORAL    PHYSICS   \n",
              "973834  JOB1362685381521    COMP51   SENIOR  HIGH_SCHOOL       NONE   \n",
              "\n",
              "         industry  yearsExperience  milesFromMetropolis  salary  \n",
              "818324    SERVICE                7                   88      88  \n",
              "676357  EDUCATION               15                   56      62  \n",
              "268035        WEB                1                   94      86  \n",
              "897005    FINANCE                2                    1      90  \n",
              "885342       AUTO                5                   27     132  \n",
              "...           ...              ...                  ...     ...  \n",
              "880888  EDUCATION               18                    4     170  \n",
              "462577  EDUCATION               15                   81     123  \n",
              "628289        OIL               11                   41      95  \n",
              "200081    FINANCE               15                   94     177  \n",
              "973834  EDUCATION               22                   17      90  \n",
              "\n",
              "[34914 rows x 9 columns]"
            ]
          },
          "execution_count": 5,
          "metadata": {},
          "output_type": "execute_result"
        }
      ],
      "source": [
        "#salaries less that 30 can be removed as such a such salary per month is not expected\n",
        "train_data = train_data[train_data['salary'] > 30]\n",
        "train_data = train_data.sample(frac=0.035)\n",
        "train_data "
      ]
    },
    {
      "cell_type": "markdown",
      "metadata": {
        "id": "R77DB8k_oIzz"
      },
      "source": [
        "# Basic EDA"
      ]
    },
    {
      "cell_type": "markdown",
      "metadata": {
        "id": "lOU1QjkxoIzz"
      },
      "source": [
        "## Identifying the number of features or columns"
      ]
    },
    {
      "cell_type": "markdown",
      "metadata": {
        "id": "9dLpt1pjoIz0"
      },
      "source": [
        "## Know all the names of the columns¶"
      ]
    },
    {
      "cell_type": "code",
      "execution_count": 6,
      "metadata": {
        "colab": {
          "base_uri": "https://localhost:8080/"
        },
        "id": "s77CzsoaoIz0",
        "outputId": "f7fbd176-3c36-491a-e397-7b5f658e5621"
      },
      "outputs": [
        {
          "data": {
            "text/plain": [
              "Index(['jobId', 'companyId', 'jobType', 'degree', 'major', 'industry',\n",
              "       'yearsExperience', 'milesFromMetropolis', 'salary'],\n",
              "      dtype='object')"
            ]
          },
          "execution_count": 6,
          "metadata": {},
          "output_type": "execute_result"
        }
      ],
      "source": [
        "# get all column names\n",
        "train_data.columns\n",
        "\n"
      ]
    },
    {
      "cell_type": "markdown",
      "metadata": {
        "id": "MwqbUBz1oIz2"
      },
      "source": [
        "## Knows more about the data in the columns like data type it contains and total samples of each"
      ]
    },
    {
      "cell_type": "code",
      "execution_count": null,
      "metadata": {
        "colab": {
          "base_uri": "https://localhost:8080/"
        },
        "id": "SG3UQlHN-kjy",
        "outputId": "d5832e81-cf0a-4e3d-b5ba-33feffb7c00d"
      },
      "outputs": [],
      "source": [
        "# Check which columns are having categorical, numerical or boolean values of train_dataset\n",
        "train_data.info()\n"
      ]
    },
    {
      "cell_type": "code",
      "execution_count": null,
      "metadata": {
        "colab": {
          "base_uri": "https://localhost:8080/"
        },
        "id": "AMdW-4ADoIz4",
        "outputId": "8c7a3cef-53f6-4516-df39-8200c77ed637"
      },
      "outputs": [],
      "source": [
        "# Check which columns are having categorical, numerical or boolean values of test_dataset\n",
        "test_df.info()\n",
        "\n"
      ]
    },
    {
      "cell_type": "markdown",
      "metadata": {
        "id": "1OJik4SSoIz5"
      },
      "source": [
        "1. After checking the Dtypes of all the columns \n",
        "    1. object - String values\n",
        "    1. int64 - Numerical values\n",
        "1. There are more String values than the numerical values in the dataset"
      ]
    },
    {
      "cell_type": "markdown",
      "metadata": {
        "id": "zjhhJbKIoIz5"
      },
      "source": [
        "## Know more mathematical relations of the dataset like count, min, max values, standarad deviation values, mean and different percentile values"
      ]
    },
    {
      "cell_type": "code",
      "execution_count": null,
      "metadata": {
        "colab": {
          "base_uri": "https://localhost:8080/",
          "height": 300
        },
        "id": "vvFc2dJFoIz6",
        "outputId": "799af026-d67a-44f0-eebc-12e062f0f4ec"
      },
      "outputs": [],
      "source": [
        "# For train_dataset\n",
        "# For more information on the dataset like the total count in all the columns\n",
        "# min, max values and more information of the respective columns  \n",
        "\n",
        "train_data.describe()\n"
      ]
    },
    {
      "cell_type": "code",
      "execution_count": null,
      "metadata": {
        "colab": {
          "base_uri": "https://localhost:8080/",
          "height": 300
        },
        "id": "SKM8G5f8oIz6",
        "outputId": "2305027c-78ed-442c-9354-fd854a568152"
      },
      "outputs": [],
      "source": [
        "# for test_dataset\n",
        "# For more information on the dataset like the total count in all the columns\n",
        "# min, max values and more information of the respective columns\n",
        "test_df.info()\n",
        "\n"
      ]
    },
    {
      "cell_type": "markdown",
      "metadata": {
        "id": "u6Q_0mG5oIz6"
      },
      "source": [
        "## Get the total number of samples in the dataset using the len() function"
      ]
    },
    {
      "cell_type": "code",
      "execution_count": null,
      "metadata": {
        "colab": {
          "base_uri": "https://localhost:8080/"
        },
        "id": "iCHRFn93oIz7",
        "outputId": "403ca32c-279c-43e3-b6f8-d0a0e26d6a2f"
      },
      "outputs": [],
      "source": [
        "# len of train and test dataset\n",
        "print(f\"\"\"Total Length of the Train Data: {len(train_data)}\\n  \n",
        "Total Lenght of Test Data: {len(test_df)}\"\"\")\n",
        "\n"
      ]
    },
    {
      "cell_type": "markdown",
      "metadata": {
        "id": "Q6ymmsOGoIz7"
      },
      "source": [
        "## Get unique values"
      ]
    },
    {
      "cell_type": "code",
      "execution_count": null,
      "metadata": {
        "colab": {
          "base_uri": "https://localhost:8080/"
        },
        "id": "-SrQayENoIz7",
        "outputId": "04e0a974-6326-4d8e-fc1b-da06dd402cd5"
      },
      "outputs": [],
      "source": [
        "# get how many unique values are in train_dataset\n",
        "\n",
        "train_data.nunique()\n",
        "\n"
      ]
    },
    {
      "cell_type": "code",
      "execution_count": null,
      "metadata": {
        "colab": {
          "base_uri": "https://localhost:8080/"
        },
        "id": "gpbSbM8ioIz8",
        "outputId": "3e6c5ba9-92cb-4645-fc6a-eece2d758381"
      },
      "outputs": [],
      "source": [
        "# get how many unique values are in test_dataset\n",
        "\n",
        "test_df.nunique()\n",
        "\n"
      ]
    },
    {
      "cell_type": "markdown",
      "metadata": {
        "id": "lcELx0b9oIz8"
      },
      "source": [
        "## Counting the total number of missing values¶"
      ]
    },
    {
      "cell_type": "code",
      "execution_count": null,
      "metadata": {
        "colab": {
          "base_uri": "https://localhost:8080/"
        },
        "id": "smt_f1IdoIz8",
        "outputId": "4204af54-5e0c-41b5-e66f-6592e5bd69ed"
      },
      "outputs": [],
      "source": [
        "# Check for missing values in all the columnns of the train_dataset\n",
        "\n",
        "train_data.isnull().sum()\n"
      ]
    },
    {
      "cell_type": "code",
      "execution_count": null,
      "metadata": {
        "colab": {
          "base_uri": "https://localhost:8080/"
        },
        "id": "6nZgoGSwoIz8",
        "outputId": "9ad44834-4dba-4dd4-d0ff-8eec71fd3857"
      },
      "outputs": [],
      "source": [
        " # Check for missing values in all the columnns of the test_dataset\n",
        "test_df.isnull().sum()\n",
        "\n"
      ]
    },
    {
      "cell_type": "markdown",
      "metadata": {
        "id": "f5ARlvYSoIz9"
      },
      "source": [
        "## By the observation gather from the train_data.info(), we can know there are no missing values in the train and test dataset"
      ]
    },
    {
      "cell_type": "markdown",
      "metadata": {
        "id": "dJae7qRCoIz9"
      },
      "source": [
        "## removing 'jobId' and 'companyId' data from train and test data"
      ]
    },
    {
      "cell_type": "code",
      "execution_count": 7,
      "metadata": {
        "colab": {
          "base_uri": "https://localhost:8080/",
          "height": 424
        },
        "id": "43wF9FahseBR",
        "outputId": "134bd6a4-d10c-4c72-affb-4831f01eb027"
      },
      "outputs": [
        {
          "data": {
            "text/html": [
              "<div>\n",
              "<style scoped>\n",
              "    .dataframe tbody tr th:only-of-type {\n",
              "        vertical-align: middle;\n",
              "    }\n",
              "\n",
              "    .dataframe tbody tr th {\n",
              "        vertical-align: top;\n",
              "    }\n",
              "\n",
              "    .dataframe thead th {\n",
              "        text-align: right;\n",
              "    }\n",
              "</style>\n",
              "<table border=\"1\" class=\"dataframe\">\n",
              "  <thead>\n",
              "    <tr style=\"text-align: right;\">\n",
              "      <th></th>\n",
              "      <th>jobType</th>\n",
              "      <th>degree</th>\n",
              "      <th>major</th>\n",
              "      <th>industry</th>\n",
              "      <th>yearsExperience</th>\n",
              "      <th>milesFromMetropolis</th>\n",
              "      <th>salary</th>\n",
              "    </tr>\n",
              "  </thead>\n",
              "  <tbody>\n",
              "    <tr>\n",
              "      <th>818324</th>\n",
              "      <td>CTO</td>\n",
              "      <td>BACHELORS</td>\n",
              "      <td>CHEMISTRY</td>\n",
              "      <td>SERVICE</td>\n",
              "      <td>7</td>\n",
              "      <td>88</td>\n",
              "      <td>88</td>\n",
              "    </tr>\n",
              "    <tr>\n",
              "      <th>676357</th>\n",
              "      <td>JUNIOR</td>\n",
              "      <td>HIGH_SCHOOL</td>\n",
              "      <td>NONE</td>\n",
              "      <td>EDUCATION</td>\n",
              "      <td>15</td>\n",
              "      <td>56</td>\n",
              "      <td>62</td>\n",
              "    </tr>\n",
              "    <tr>\n",
              "      <th>268035</th>\n",
              "      <td>CEO</td>\n",
              "      <td>HIGH_SCHOOL</td>\n",
              "      <td>NONE</td>\n",
              "      <td>WEB</td>\n",
              "      <td>1</td>\n",
              "      <td>94</td>\n",
              "      <td>86</td>\n",
              "    </tr>\n",
              "    <tr>\n",
              "      <th>897005</th>\n",
              "      <td>JANITOR</td>\n",
              "      <td>HIGH_SCHOOL</td>\n",
              "      <td>NONE</td>\n",
              "      <td>FINANCE</td>\n",
              "      <td>2</td>\n",
              "      <td>1</td>\n",
              "      <td>90</td>\n",
              "    </tr>\n",
              "    <tr>\n",
              "      <th>885342</th>\n",
              "      <td>MANAGER</td>\n",
              "      <td>BACHELORS</td>\n",
              "      <td>COMPSCI</td>\n",
              "      <td>AUTO</td>\n",
              "      <td>5</td>\n",
              "      <td>27</td>\n",
              "      <td>132</td>\n",
              "    </tr>\n",
              "  </tbody>\n",
              "</table>\n",
              "</div>"
            ],
            "text/plain": [
              "        jobType       degree      major   industry  yearsExperience  \\\n",
              "818324      CTO    BACHELORS  CHEMISTRY    SERVICE                7   \n",
              "676357   JUNIOR  HIGH_SCHOOL       NONE  EDUCATION               15   \n",
              "268035      CEO  HIGH_SCHOOL       NONE        WEB                1   \n",
              "897005  JANITOR  HIGH_SCHOOL       NONE    FINANCE                2   \n",
              "885342  MANAGER    BACHELORS    COMPSCI       AUTO                5   \n",
              "\n",
              "        milesFromMetropolis  salary  \n",
              "818324                   88      88  \n",
              "676357                   56      62  \n",
              "268035                   94      86  \n",
              "897005                    1      90  \n",
              "885342                   27     132  "
            ]
          },
          "execution_count": 7,
          "metadata": {},
          "output_type": "execute_result"
        }
      ],
      "source": [
        "# drop jobId and companyId from train_dataset\n",
        "train_data = train_data.drop(['jobId','companyId'], axis=1, inplace=False)\n",
        "train_data.head()\n",
        "\n",
        "\n"
      ]
    },
    {
      "cell_type": "code",
      "execution_count": 8,
      "metadata": {
        "colab": {
          "base_uri": "https://localhost:8080/",
          "height": 424
        },
        "id": "HFwk9xWyoIz-",
        "outputId": "d200c772-3f48-4bc2-a705-93bc35f8c904"
      },
      "outputs": [
        {
          "data": {
            "text/html": [
              "<div>\n",
              "<style scoped>\n",
              "    .dataframe tbody tr th:only-of-type {\n",
              "        vertical-align: middle;\n",
              "    }\n",
              "\n",
              "    .dataframe tbody tr th {\n",
              "        vertical-align: top;\n",
              "    }\n",
              "\n",
              "    .dataframe thead th {\n",
              "        text-align: right;\n",
              "    }\n",
              "</style>\n",
              "<table border=\"1\" class=\"dataframe\">\n",
              "  <thead>\n",
              "    <tr style=\"text-align: right;\">\n",
              "      <th></th>\n",
              "      <th>jobType</th>\n",
              "      <th>degree</th>\n",
              "      <th>major</th>\n",
              "      <th>industry</th>\n",
              "      <th>yearsExperience</th>\n",
              "      <th>milesFromMetropolis</th>\n",
              "    </tr>\n",
              "  </thead>\n",
              "  <tbody>\n",
              "    <tr>\n",
              "      <th>0</th>\n",
              "      <td>MANAGER</td>\n",
              "      <td>HIGH_SCHOOL</td>\n",
              "      <td>NONE</td>\n",
              "      <td>HEALTH</td>\n",
              "      <td>22</td>\n",
              "      <td>73</td>\n",
              "    </tr>\n",
              "    <tr>\n",
              "      <th>1</th>\n",
              "      <td>JUNIOR</td>\n",
              "      <td>NONE</td>\n",
              "      <td>NONE</td>\n",
              "      <td>AUTO</td>\n",
              "      <td>20</td>\n",
              "      <td>47</td>\n",
              "    </tr>\n",
              "    <tr>\n",
              "      <th>2</th>\n",
              "      <td>CTO</td>\n",
              "      <td>MASTERS</td>\n",
              "      <td>BIOLOGY</td>\n",
              "      <td>HEALTH</td>\n",
              "      <td>17</td>\n",
              "      <td>9</td>\n",
              "    </tr>\n",
              "    <tr>\n",
              "      <th>3</th>\n",
              "      <td>MANAGER</td>\n",
              "      <td>HIGH_SCHOOL</td>\n",
              "      <td>NONE</td>\n",
              "      <td>OIL</td>\n",
              "      <td>14</td>\n",
              "      <td>96</td>\n",
              "    </tr>\n",
              "    <tr>\n",
              "      <th>4</th>\n",
              "      <td>JUNIOR</td>\n",
              "      <td>DOCTORAL</td>\n",
              "      <td>BIOLOGY</td>\n",
              "      <td>OIL</td>\n",
              "      <td>10</td>\n",
              "      <td>44</td>\n",
              "    </tr>\n",
              "  </tbody>\n",
              "</table>\n",
              "</div>"
            ],
            "text/plain": [
              "   jobType       degree    major industry  yearsExperience  \\\n",
              "0  MANAGER  HIGH_SCHOOL     NONE   HEALTH               22   \n",
              "1   JUNIOR         NONE     NONE     AUTO               20   \n",
              "2      CTO      MASTERS  BIOLOGY   HEALTH               17   \n",
              "3  MANAGER  HIGH_SCHOOL     NONE      OIL               14   \n",
              "4   JUNIOR     DOCTORAL  BIOLOGY      OIL               10   \n",
              "\n",
              "   milesFromMetropolis  \n",
              "0                   73  \n",
              "1                   47  \n",
              "2                    9  \n",
              "3                   96  \n",
              "4                   44  "
            ]
          },
          "execution_count": 8,
          "metadata": {},
          "output_type": "execute_result"
        }
      ],
      "source": [
        "# drop jobId and companyId from test_dataset\n",
        "test_data = test_df.drop(['jobId','companyId'], axis=1, inplace=False)\n",
        "test_data.head()\n",
        "\n"
      ]
    },
    {
      "cell_type": "markdown",
      "metadata": {
        "id": "CxMdiTFSoIz-"
      },
      "source": [
        "## Check for categorical columns in the dataset\n",
        "\n",
        "By observing the train_data.info() cell, we can biforcate the datatype for which the object is the values which indicates those are the categorical columns. This dataset has more categorical columns than numerical values\n",
        "\n",
        "1. jobType\n",
        "2. degree\n",
        "3. major\n",
        "4. industry"
      ]
    },
    {
      "cell_type": "code",
      "execution_count": 9,
      "metadata": {
        "id": "-DMKSHGdoIz_"
      },
      "outputs": [],
      "source": [
        "category_columns = [column for column in train_data.columns if train_data[column].dtype == \"O\"]\n",
        "numerical_columns = [column for column in train_data.columns if column not in category_columns]"
      ]
    },
    {
      "cell_type": "markdown",
      "metadata": {
        "id": "f7HPmp72oIz_"
      },
      "source": [
        "## Correlation Matrix"
      ]
    },
    {
      "cell_type": "markdown",
      "metadata": {
        "id": "57vTx8IYoIz_"
      },
      "source": [
        "## Why?\n",
        "#### A correlation matrix is a table showing correlation coefficients between variables."
      ]
    },
    {
      "cell_type": "markdown",
      "metadata": {
        "id": "D_bKSsbzoIz_"
      },
      "source": [
        "### There are three broad reasons for computing a correlation matrix:\n",
        "\n",
        "  1. To summarize a large amount of data where the goal is to see patterns. In our example above, the observable pattern is that all the variables highly correlate with each other.\n",
        "  2. To input into other analyses. For example, people commonly use correlation matrixes as inputs for exploratory factor analysis, confirmatory factor analysis, structural equation models, and linear regression when excluding missing values pairwise.\n",
        "  3. As a diagnostic when checking other analyses. For example, with linear regression, a high amount of correlations suggests that the linear regression estimates will be unreliable."
      ]
    },
    {
      "cell_type": "code",
      "execution_count": 10,
      "metadata": {
        "colab": {
          "base_uri": "https://localhost:8080/",
          "height": 143
        },
        "id": "Tnbta8wooI0A",
        "outputId": "9ed1b1c5-21b9-4583-9a43-f5c6f6725fdf"
      },
      "outputs": [
        {
          "data": {
            "text/html": [
              "<style type=\"text/css\">\n",
              "#T_351b1_row0_col0, #T_351b1_row1_col1, #T_351b1_row2_col2 {\n",
              "  background-color: #b40426;\n",
              "  color: #f1f1f1;\n",
              "}\n",
              "#T_351b1_row0_col1 {\n",
              "  background-color: #86a9fc;\n",
              "  color: #f1f1f1;\n",
              "}\n",
              "#T_351b1_row0_col2 {\n",
              "  background-color: #dfdbd9;\n",
              "  color: #000000;\n",
              "}\n",
              "#T_351b1_row1_col0, #T_351b1_row1_col2, #T_351b1_row2_col1 {\n",
              "  background-color: #3b4cc0;\n",
              "  color: #f1f1f1;\n",
              "}\n",
              "#T_351b1_row2_col0 {\n",
              "  background-color: #b3cdfb;\n",
              "  color: #000000;\n",
              "}\n",
              "</style>\n",
              "<table id=\"T_351b1\">\n",
              "  <thead>\n",
              "    <tr>\n",
              "      <th class=\"blank level0\" >&nbsp;</th>\n",
              "      <th id=\"T_351b1_level0_col0\" class=\"col_heading level0 col0\" >yearsExperience</th>\n",
              "      <th id=\"T_351b1_level0_col1\" class=\"col_heading level0 col1\" >milesFromMetropolis</th>\n",
              "      <th id=\"T_351b1_level0_col2\" class=\"col_heading level0 col2\" >salary</th>\n",
              "    </tr>\n",
              "  </thead>\n",
              "  <tbody>\n",
              "    <tr>\n",
              "      <th id=\"T_351b1_level0_row0\" class=\"row_heading level0 row0\" >yearsExperience</th>\n",
              "      <td id=\"T_351b1_row0_col0\" class=\"data row0 col0\" >1.00</td>\n",
              "      <td id=\"T_351b1_row0_col1\" class=\"data row0 col1\" >0.01</td>\n",
              "      <td id=\"T_351b1_row0_col2\" class=\"data row0 col2\" >0.37</td>\n",
              "    </tr>\n",
              "    <tr>\n",
              "      <th id=\"T_351b1_level0_row1\" class=\"row_heading level0 row1\" >milesFromMetropolis</th>\n",
              "      <td id=\"T_351b1_row1_col0\" class=\"data row1 col0\" >0.01</td>\n",
              "      <td id=\"T_351b1_row1_col1\" class=\"data row1 col1\" >1.00</td>\n",
              "      <td id=\"T_351b1_row1_col2\" class=\"data row1 col2\" >-0.30</td>\n",
              "    </tr>\n",
              "    <tr>\n",
              "      <th id=\"T_351b1_level0_row2\" class=\"row_heading level0 row2\" >salary</th>\n",
              "      <td id=\"T_351b1_row2_col0\" class=\"data row2 col0\" >0.37</td>\n",
              "      <td id=\"T_351b1_row2_col1\" class=\"data row2 col1\" >-0.30</td>\n",
              "      <td id=\"T_351b1_row2_col2\" class=\"data row2 col2\" >1.00</td>\n",
              "    </tr>\n",
              "  </tbody>\n",
              "</table>\n"
            ],
            "text/plain": [
              "<pandas.io.formats.style.Styler at 0x1d16ec78c40>"
            ]
          },
          "execution_count": 10,
          "metadata": {},
          "output_type": "execute_result"
        }
      ],
      "source": [
        "# Correlation metrix using pandas\n",
        "corr = train_data.corr()\n",
        "\n",
        "corr.style.background_gradient(cmap='coolwarm').set_precision(2)"
      ]
    },
    {
      "cell_type": "markdown",
      "metadata": {
        "id": "5WQTlewG8cFW"
      },
      "source": [
        "## From above correlation matrix:\n",
        "1. yearsExperience and salary are positively correlated.\n",
        "\n",
        "2. yearsExperience and milesFromMetropolis have no correlation.\n",
        "\n",
        "3. milesFromMetropolis and salary are weakly negatively correlated."
      ]
    },
    {
      "cell_type": "code",
      "execution_count": null,
      "metadata": {
        "colab": {
          "base_uri": "https://localhost:8080/",
          "height": 339
        },
        "id": "0gTdNCTOoI0A",
        "outputId": "74bbd74e-af2c-45a5-cf72-a07212298e7c"
      },
      "outputs": [],
      "source": [
        "# Correlation metrix using seaborn\n",
        "ax = sns.heatmap(\n",
        "    corr,\n",
        "    center=0,\n",
        "    cmap='coolwarm',\n",
        "    square=True\n",
        ")\n",
        "ax.set_xticklabels(\n",
        "    ax.get_xticklabels(),\n",
        "    rotation=45\n",
        ")\n",
        "\n",
        "\n"
      ]
    },
    {
      "cell_type": "markdown",
      "metadata": {
        "id": "_MQIVQZroI0A"
      },
      "source": [
        "## Chi-square Test"
      ]
    },
    {
      "cell_type": "markdown",
      "metadata": {
        "id": "k5_gu5Mgcnxy"
      },
      "source": [
        "\n",
        "\n",
        "1. The Chi Square statistic is commonly used for testing relationships between categorical variables.\n",
        "\n",
        "2. The null hypothesis of the Chi-Square test is that no relationship exists on the categorical variables in the population; they are independent.\n",
        "\n",
        "3. Example: Is there any significant relationship between gender and education qualification?\n",
        "\n",
        "4. The Chi-Square statistic is most commonly used to evaluate Tests of Independence when using a crosstabulation.\n",
        "\n",
        "5. Crosstabulation presents the distributions of two categorical variables simultaneously, with the intersections of the categories of the variables appearing in the cells of the table. that is values of one variable represents the row and other's value represents the column.\n",
        "\n",
        "6. Formula: x^2 = Summation of( (observed value - Expected value)^2/Expected value )\n",
        "\n",
        "7. The Chi-Square statistic is based on the difference between what is actually observed in the data and what would be expected if there was truly no relationship between the variables.\n",
        "\n",
        "8. This statistic can be evaluated by comparing the actual value against a critical value found in a Chi-Square distribution (where degrees of freedom is calculated as of rows – 1 x columns – 1), but it is easier to simply examine the p-value.\n",
        "\n",
        "9. To make a conclusion about the hypothesis with 95% confidence. Significance(p value of the Chi-square statistic) should be less than 0.05.\n",
        "\n",
        "    1. Alpha level = 0.05(i.e 5%) 95% confidence about conclusion and 5% risk of not making a correct conclusion.\n",
        "\n",
        "    2. Interpret the key results for Chi-Square Test for Association\n",
        "\n",
        "        Determine whether the association between the variables is statistically significant.\n",
        "\n",
        "        Examine the differences between expected counts and observed counts to determine which variable levels may have the most impact on association.\n"
      ]
    },
    {
      "cell_type": "code",
      "execution_count": null,
      "metadata": {
        "id": "btHTJGSQoI0A"
      },
      "outputs": [],
      "source": [
        "# import necessary libraries for chi-square test\n",
        "from scipy.stats import chi2_contingency\n",
        "from scipy.stats import chi2\n",
        "\n",
        "def perform_chi_square_test(var_1,var_2):\n",
        "    \n",
        "    #Contingency Table\n",
        "    contingency_table = pd.crosstab(train_data[var_1], train_data[var_2])\n",
        "    \n",
        "    #Observed Values\n",
        "    observed_values = contingency_table.values\n",
        "    \n",
        "    #Expected Values\n",
        "    chi_square_statistic, p_value, degree_f, expected_values= chi2_contingency(contingency_table)\n",
        "\n",
        "    print(\"Degree of Freedom: \",degree_f)\n",
        "    #Significance Level 5%\n",
        "    alpha = 0.05\n",
        "    critical_value = chi2.ppf(q=1-alpha,df=degree_f)\n",
        "    print('Significance level: ',alpha)\n",
        "    print(\"chi-square statistic: \",chi_square_statistic)\n",
        "    print('critical_value:',critical_value)\n",
        "    print('p-value:',p_value)\n",
        "          \n",
        "    if chi_square_statistic>=critical_value:\n",
        "        print(\"Reject H0,There is a relationship between 2 categorical variables\")\n",
        "    else:\n",
        "        print(\"Retain H0,There is no relationship between 2 categorical variables\")\n",
        "\n",
        "    if p_value<=alpha:\n",
        "        print(\"Reject H0,There is a relationship between 2 categorical variables\")\n",
        "    else:\n",
        "        print(\"Retain H0,There is no relationship between 2 categorical variables\")"
      ]
    },
    {
      "cell_type": "code",
      "execution_count": null,
      "metadata": {
        "colab": {
          "base_uri": "https://localhost:8080/"
        },
        "id": "-Z6tR1WYoI0B",
        "outputId": "a00453d6-f4f7-4101-b0be-3edbd474d9f5"
      },
      "outputs": [],
      "source": [
        "# looping on categorical data list and use function for performing chi-square test on columns from dataset\n",
        "chi_square_test_report = dict()\n",
        "for x in category_columns:\n",
        "    for i in category_columns:\n",
        "        if i != x:\n",
        "            perform_chi_square_test(x,i)\n",
        "            print('-------------------------------------------------------------------\\n')\n",
        "            \n",
        "\n",
        "\n",
        "            "
      ]
    },
    {
      "cell_type": "markdown",
      "metadata": {
        "id": "AZHW1X6c-xDj"
      },
      "source": [
        "From above chi-square test:\n",
        "\n",
        "- correlated variables:\n",
        "\n",
        "  1. jobtype and degree\n",
        "  2. jobtype and major\n",
        "  3. degree and major\n"
      ]
    },
    {
      "cell_type": "markdown",
      "metadata": {
        "id": "Gp3pBTCaoI0B"
      },
      "source": [
        "## Scatter Plot"
      ]
    },
    {
      "cell_type": "markdown",
      "metadata": {
        "id": "j52bv3iQc1Sv"
      },
      "source": [
        "\n",
        "\n",
        "1. A scatter plot is a type of plot using Cartesian coordinates to display values for typically two variables for a set of data.\n",
        "\n",
        "2. The data are displayed as a collection of points, each having the value of one variable determining the position on the horizontal axis and the value of the other variable determining the position on the vertical axis.\n",
        "\n",
        "3. Scatter plot's are used to observe and show relationships between two numeric variables.\n"
      ]
    },
    {
      "cell_type": "code",
      "execution_count": null,
      "metadata": {
        "colab": {
          "base_uri": "https://localhost:8080/",
          "height": 1000
        },
        "id": "Lul6znDSoI0B",
        "outputId": "f1addb69-0d32-4fc7-864a-face25ec3e8b"
      },
      "outputs": [],
      "source": [
        "# Scatter plot using matplotlib \n",
        "# create function for ploting scatterplot between two columns of dataset\n",
        "def plot_scatter(x, y):\n",
        "    plt.figure()\n",
        "    plt.xlabel(x)\n",
        "    plt.ylabel(y)\n",
        "    plt.scatter(train_data[x],train_data[y])\n",
        "    plt.show()\n",
        "\n",
        "\n",
        "    \n",
        "\n",
        "\n",
        "# Loop through the different columns \n",
        "for i in numerical_columns:\n",
        "    for j in numerical_columns:\n",
        "        if i != j:\n",
        "            plot_scatter(i, j)"
      ]
    },
    {
      "cell_type": "markdown",
      "metadata": {
        "id": "iLU-MyIx_4X5"
      },
      "source": [
        "From above scatter plot\n",
        "\n",
        "1. Increase in value on yearsExperience axis results in increase of values on salary axis. That is they are positively correlated.\n",
        "\n",
        "2. Increase in value on \n",
        "milesFromMetropolis axis results in decrease of values on salary axis. That is they are negatively correlated.\n",
        "\n",
        "2. There is no change in values of yearExperience vs milesFromMetropolis graph. That is there is no correlation between these variables."
      ]
    },
    {
      "cell_type": "markdown",
      "metadata": {
        "id": "iPBbMnO6oI0B"
      },
      "source": [
        "## Histogram"
      ]
    },
    {
      "cell_type": "markdown",
      "metadata": {
        "id": "LY624O-yoI0C"
      },
      "source": [
        "\n",
        "\n",
        "1. A histogram is an approximate representation of the distribution of numerical data.\n",
        "\n",
        "2. To construct a histogram, the first step is to \"bin\" (or \"bucket\") the range of values—that is, divide the entire range of values into a series of intervals—and then count how many values fall into each interval.\n",
        "\n",
        "3. The words used to describe the patterns in a histogram are: \"symmetric\", \"skewed left\" or \"right\", \"unimodal\", \"bimodal\" or \"multimodal\".\n"
      ]
    },
    {
      "cell_type": "code",
      "execution_count": null,
      "metadata": {
        "colab": {
          "base_uri": "https://localhost:8080/",
          "height": 586
        },
        "id": "mTzS4Po-oI0C",
        "outputId": "d12325c1-5c1a-4ea7-d819-fb8c3a278c4c"
      },
      "outputs": [],
      "source": [
        "# Histogram using pandas \n",
        "train_data.hist(figsize=(12,8))\n",
        "\n",
        "\n"
      ]
    },
    {
      "cell_type": "markdown",
      "metadata": {
        "id": "s9GyveWbCRKz"
      },
      "source": [
        "From the above histogram\n",
        "\n",
        "1. yearsExperience data distribution is symmetric.\n",
        "\n",
        "2. milesFromMetropolis data distribution is symmetric.\n",
        "\n",
        "3. salary data distribution is symmetric, unimodel (it has only one peak in distribution)\n"
      ]
    },
    {
      "cell_type": "markdown",
      "metadata": {
        "id": "cNMgZ-bpoI0C"
      },
      "source": [
        "## Box Plot"
      ]
    },
    {
      "cell_type": "markdown",
      "metadata": {
        "id": "uBBrK3hWoI0D"
      },
      "source": [
        "A boxplot is a standardized way of displaying the dataset based on a five-number summary:\n",
        "\n",
        "    1. Minimum (Q0 or 0th percentile): the lowest data point excluding any outliers.\n",
        "\n",
        "    2. Maximum (Q4 or 100th percentile): the largest data point excluding any outliers.\n",
        "\n",
        "    3. Median (Q2 or 50th percentile): the middle value of the dataset.\n",
        "\n",
        "    4. First quartile (Q1 or 25th percentile): also known as the lower quartile qn(0.25), is the median of the lower half of the dataset.\n",
        "\n",
        "    5. Third quartile (Q3 or 75th percentile): also known as the upper quartile qn(0.75), is the median of the upper half of the dataset\n"
      ]
    },
    {
      "cell_type": "code",
      "execution_count": null,
      "metadata": {
        "colab": {
          "base_uri": "https://localhost:8080/",
          "height": 609
        },
        "id": "ZEGifbDioI0D",
        "outputId": "61c0cad3-9816-46cf-93f4-ee2bf6e95879"
      },
      "outputs": [],
      "source": [
        "# box plot using pandas \n",
        "# box plot for yearsExperience column\n",
        "sns.boxplot(train_data['yearsExperience'])\n",
        "print(train_data['yearsExperience'].describe())\n",
        "\n",
        "\n"
      ]
    },
    {
      "cell_type": "markdown",
      "metadata": {
        "id": "eRf3_KaVMhng"
      },
      "source": [
        "from above box plot graph:\n",
        "\n",
        "- yearsExperience\n",
        "  1. 25% of employees from dataset has yearExperience of between range 0 to 6.\n",
        "  2. 25% of employee has yearExperience between range 6 to 12.\n",
        "  3. 25% of employee has yearExperience between range 12 to 18.\n",
        "  4. 25% of employee has yearExperience between range 18 to 24"
      ]
    },
    {
      "cell_type": "code",
      "execution_count": null,
      "metadata": {
        "colab": {
          "base_uri": "https://localhost:8080/",
          "height": 609
        },
        "id": "dyEXilQHP9Jw",
        "outputId": "8f3c08e0-33c2-4292-d404-67a025d3e046"
      },
      "outputs": [],
      "source": [
        "# box plot using pandas \n",
        "# box plot for milesFromMetropolies column\n",
        "\n",
        "sns.boxplot(train_data['milesFromMetropolis'])\n",
        "print(train_data['milesFromMetropolis'].describe())\n",
        "\n",
        "\n",
        "\n"
      ]
    },
    {
      "cell_type": "markdown",
      "metadata": {
        "id": "rqtFUP0hP8Fj"
      },
      "source": [
        "from above box plot graph:\n",
        "\n",
        "- yearsExperience\n",
        "  1. 25% of employees from dataset has value of milesFromMetropolis between range 0 to 24.\n",
        "  2. 25% of employee has value of milesFromMetropolis between range 24 to 52.\n",
        "  3. 25% of employee has value of milesFromMetropolis between range 52 to 76.\n",
        "  4. 25% of employee has value of milesFromMetropolis between range 76 to 100"
      ]
    },
    {
      "cell_type": "code",
      "execution_count": null,
      "metadata": {
        "colab": {
          "base_uri": "https://localhost:8080/",
          "height": 609
        },
        "id": "AWG2gpBVRN-r",
        "outputId": "670d6469-7d0b-454d-ccce-491127a3df5d"
      },
      "outputs": [],
      "source": [
        "# box plot using pandas \n",
        "# box plot for salary column\n",
        "sns.boxplot(train_data['salary'])\n",
        "print(train_data['salary'].describe())\n",
        "\n",
        "\n"
      ]
    },
    {
      "cell_type": "markdown",
      "metadata": {
        "id": "asX7y3CWRLFz"
      },
      "source": [
        "from above box plot graph:\n",
        "\n",
        "- yearsExperience\n",
        "  1. 25% of employees from dataset has value of salary between range 0 to 88.\n",
        "  2. 25% of employee has value of salary between range 88 to 120.\n",
        "  3. 25% of employee has value of salary between range 120 to 150.\n",
        "  4. 25% of employee has value of salary between range 150 to 300\n",
        "\n",
        "\n",
        "- The mean salary is around 120"
      ]
    },
    {
      "cell_type": "markdown",
      "metadata": {
        "id": "dDxrwUAsoI0E"
      },
      "source": [
        "\n",
        "## Violin Plot\n",
        "\n",
        "\n",
        "\n",
        "1. A violin plot is a method of plotting numeric data.\n",
        "\n",
        "1. Violin plots are similar to box plots, except that they also show the probability density of the data at different values, usually smoothed by a kernel density estimator.\n",
        "\n",
        "3. It has:\n",
        "\n",
        "    1. Median (a white dot on the violin plot)\n",
        "    2. Interquartile range (the black bar in the center of violin)\n",
        "    3. The lower/upper adjacent values (the black lines stretched from the bar) — defined as first quartile — 1.5 IQR and third quartile + 1.5 IQR respectively."
      ]
    },
    {
      "cell_type": "code",
      "execution_count": null,
      "metadata": {
        "colab": {
          "base_uri": "https://localhost:8080/",
          "height": 405
        },
        "id": "_4ZCqO9boI0E",
        "outputId": "ca78b019-9127-46b2-cb24-23f5bc6171e8"
      },
      "outputs": [],
      "source": [
        "# violin plot for yearsExperience and salary columns\n",
        "plt.figure(figsize=(20,6))\n",
        "sns.violinplot(x=train_data['yearsExperience'],y=train_data['salary'])\n",
        "\n",
        "\n",
        "\n",
        "\n",
        "\n"
      ]
    },
    {
      "cell_type": "markdown",
      "metadata": {
        "id": "CKq9wocLUnZd"
      },
      "source": [
        "from above violin plot:\n",
        "1. The distribution between lower adjacent value and upper adjacent value is symmetrical.\n",
        "2. also there is higher observation probability at the between first quartile and third quartile. whereas median has the highest.\n",
        "3. The salary range is increasing as we move right on the axis of yearExperience"
      ]
    },
    {
      "cell_type": "code",
      "execution_count": null,
      "metadata": {
        "colab": {
          "base_uri": "https://localhost:8080/",
          "height": 405
        },
        "id": "vi-O0JGQoI0F",
        "outputId": "161c7f89-dd0d-4066-c184-18444d18889d"
      },
      "outputs": [],
      "source": [
        "# violin plot for milesFromMetropolis from salary columns\n",
        "plt.figure(figsize=(20,6))\n",
        "sns.violinplot(x=train_data['milesFromMetropolis'],y=train_data['salary'])\n",
        "\n",
        "\n",
        "\n"
      ]
    },
    {
      "cell_type": "markdown",
      "metadata": {
        "id": "P7MKewIqVeHW"
      },
      "source": [
        "from above violin plot:\n",
        "1. The distribution between lower adjacent value and upper adjacent value is symmetrical.\n",
        "2. also there is higher observation probability at the between first quartile and third quartile.\n",
        "3. The salary range is decreasing as we move right on the axis of milesFromMetropolis"
      ]
    },
    {
      "cell_type": "markdown",
      "metadata": {
        "id": "ke04B0dsoI0F"
      },
      "source": [
        "\n",
        "## Boxenplot\n",
        "\n",
        "1. The boxen plot, otherwise known as a Letter-value plot, is a box plot meant for large data sets (n > 10,000).\n",
        "\n",
        "2. The Boxen plot is very similar to box plot, except for the fact that it plots different quartile values.\n",
        "\n",
        "3. By plotting different quartile values, we are able to understand the shape of the distribution particularly in the head end and tail end.\n"
      ]
    },
    {
      "cell_type": "code",
      "execution_count": null,
      "metadata": {
        "colab": {
          "base_uri": "https://localhost:8080/",
          "height": 405
        },
        "id": "6KfQFQM0oI0F",
        "outputId": "7e877f5c-d5a7-4c16-c8b3-73ba709d6591"
      },
      "outputs": [],
      "source": [
        "# boxen plot for yearsExperience and salary columns\n",
        "plt.figure(figsize=(20,6))\n",
        "sns.boxenplot(x=train_data['yearsExperience'],y=train_data['salary'])\n",
        "\n"
      ]
    },
    {
      "cell_type": "markdown",
      "metadata": {
        "id": "vEL-XTP-oI0H"
      },
      "source": [
        "## Count Plot"
      ]
    },
    {
      "cell_type": "markdown",
      "metadata": {
        "id": "hIIYI9w9djPn"
      },
      "source": [
        "1. A countplot is kind of like a histogram or a bar graph for some categorical area.\n",
        "\n",
        "2. It simply shows the number of occurrences of an item based on a certain type of category.\n"
      ]
    },
    {
      "cell_type": "code",
      "execution_count": null,
      "metadata": {
        "colab": {
          "base_uri": "https://localhost:8080/",
          "height": 405
        },
        "id": "fcUoQQhDoI0H",
        "outputId": "87a70a01-b1e3-437b-c1a5-42005264a22f"
      },
      "outputs": [],
      "source": [
        "# count plot of whole datset based on yearsExperience\n",
        "plt.figure(figsize=(20,6))\n",
        "sns.countplot(x='yearsExperience',data=train_data,palette='viridis')\n",
        "\n",
        "\n"
      ]
    },
    {
      "cell_type": "markdown",
      "metadata": {
        "id": "_nMJLuxdXyQ_"
      },
      "source": [
        "From above count plot\n",
        "\n",
        "distribution of values of yearExperience is equal over complete dataset, symmetrical."
      ]
    },
    {
      "cell_type": "code",
      "execution_count": null,
      "metadata": {
        "colab": {
          "base_uri": "https://localhost:8080/",
          "height": 405
        },
        "id": "-SK50aQcoI0I",
        "outputId": "a8d90409-73f4-4a23-8415-7c4f5a08bd58"
      },
      "outputs": [],
      "source": [
        "# count plot of whole datset based on milesFromMetropolis\n",
        "plt.figure(figsize=(20,6))\n",
        "sns.countplot(x='milesFromMetropolis',data=train_data,palette='viridis')\n",
        "\n",
        "\n"
      ]
    },
    {
      "cell_type": "markdown",
      "metadata": {
        "id": "rnE5LN4KX-lU"
      },
      "source": [
        "From above count plot\n",
        "\n",
        "distribution of values of milesFromMetropolis is almost equal over complete dataset, symmetrical"
      ]
    },
    {
      "cell_type": "markdown",
      "metadata": {
        "id": "ZXkVodrHeQ8C"
      },
      "source": [
        "## Subset of train dataset\n",
        "\n",
        "ploting process of swarm plot was taking huge time because of large dataset.\n",
        "\n",
        "So, we take a subset of 50000 samples from train datset and plot it for interpretation."
      ]
    },
    {
      "cell_type": "markdown",
      "metadata": {
        "id": "h0NcxNeZoI0J"
      },
      "source": [
        "## Swarm Plot\n",
        "\n",
        "\n",
        "\n",
        "1. The swarm plot is a type of scatter plot, but helps in visualizing different categorical variables.\n",
        "\n",
        "2. Scatter plots generally plots based on numeric values, but most of the data analyses happens on categorical variables. So, swarm plots seem very useful in those cases.\n"
      ]
    },
    {
      "cell_type": "markdown",
      "metadata": {
        "id": "uuzzhHMIY72Q"
      },
      "source": [
        "plot data on 50000 of 1000000 sample for clear visualization."
      ]
    },
    {
      "cell_type": "code",
      "execution_count": null,
      "metadata": {
        "colab": {
          "base_uri": "https://localhost:8080/",
          "height": 405
        },
        "id": "rzP5ge0LoI0K",
        "outputId": "28d28788-4905-48ae-87cc-45f6c4846694"
      },
      "outputs": [],
      "source": [
        "# swarm plot for yearsExperience and salary columns\n",
        "plt.figure(figsize=(20,6))\n",
        "sns.swarmplot(x=train_data['yearsExperience'],y=train_data['salary'],data=train_data.iloc[:25000], palette='coolwarm')\n",
        "\n",
        "\n"
      ]
    },
    {
      "cell_type": "markdown",
      "metadata": {
        "id": "i59fpDjualk4"
      },
      "source": [
        "from above swarm plot:\n",
        "\n",
        "1. The distribution between lower adjacent value and upper adjacent value is symmetrical.\n",
        "\n",
        "2. also there is higher observation probability at the between first quartile and third quartile.\n",
        "\n",
        "3. The salary range is increasing as we move right on the axis of yearExperience"
      ]
    },
    {
      "cell_type": "code",
      "execution_count": null,
      "metadata": {
        "colab": {
          "base_uri": "https://localhost:8080/",
          "height": 405
        },
        "id": "JBQ-emTqoI0K",
        "outputId": "cd9a404d-a0e6-4d7d-a009-1bdaef58ca09"
      },
      "outputs": [],
      "source": [
        "# swarm plot for milesFromMetropolis and salary columns\n",
        "plt.figure(figsize=(20,6))\n",
        "sns.swarmplot(x=train_data['milesFromMetropolis'],y=train_data['salary'],data=train_data.iloc[:25000], palette='coolwarm')\n",
        "\n",
        "\n",
        "\n",
        "\n",
        "\n"
      ]
    },
    {
      "cell_type": "markdown",
      "metadata": {
        "id": "Wae6ZmbObnWR"
      },
      "source": [
        "from above swarm plot:\n",
        "\n",
        "1. The distribution between lower adjacent value and upper adjacent value is symmetrical.\n",
        "2. also there is higher observation probability at the between first quartile and third quartile.\n",
        "\n",
        "3. The salary range is decreasing as we move right on the axis of milesFromMetropolis"
      ]
    },
    {
      "cell_type": "markdown",
      "metadata": {
        "id": "3COrW0TzcHxp"
      },
      "source": [
        "## Combine plot\n",
        "\n",
        "Combination of boxenplot and swarm plot"
      ]
    },
    {
      "cell_type": "code",
      "execution_count": null,
      "metadata": {
        "colab": {
          "base_uri": "https://localhost:8080/",
          "height": 405
        },
        "id": "KJ8gxh9IoI0L",
        "outputId": "7a0336af-ce03-49d4-c193-f0fc39526881"
      },
      "outputs": [],
      "source": [
        "# combine boxen and swarm plot for yearsExperience and salary columns\n",
        "plt.figure(figsize=(20,6))\n",
        "\n",
        "\n"
      ]
    },
    {
      "cell_type": "markdown",
      "metadata": {
        "id": "9ixKIqKjcP5i"
      },
      "source": [
        "from above combine plot:\n",
        "\n",
        "1. The distribution between lower adjacent value and upper adjacent value is symmetrical.\n",
        "\n",
        "2. also there is higher observation probability at the between first quartile and third quartile.\n",
        "\n",
        "3. The salary range is increasing as we move right on the axis of yearExperience"
      ]
    },
    {
      "cell_type": "code",
      "execution_count": null,
      "metadata": {
        "colab": {
          "base_uri": "https://localhost:8080/",
          "height": 405
        },
        "id": "sI6QXGcx7whk",
        "outputId": "ae50cea7-4b96-4259-a9c6-1387db7abf0f"
      },
      "outputs": [],
      "source": [
        "# combine boxen and swarm plot for milesFromMetropolis and salary columns\n",
        "plt.figure(figsize=(20,6))\n",
        "\n",
        "\n",
        "\n",
        "\n"
      ]
    },
    {
      "cell_type": "markdown",
      "metadata": {
        "id": "Ge-wbO5ncBTZ"
      },
      "source": [
        "from above combine plot:\n",
        "\n",
        "1. The distribution between lower adjacent value and upper adjacent value is symmetrical.\n",
        "2. also there is higher observation probability at the between first quartile and third quartile.\n",
        "\n",
        "3. The salary range is decreasing as we move right on the axis of milesFromMetropolis"
      ]
    },
    {
      "cell_type": "markdown",
      "metadata": {
        "id": "m23fShSZseBt"
      },
      "source": [
        "# Strip Plot"
      ]
    },
    {
      "cell_type": "markdown",
      "metadata": {
        "id": "3bXB2dUOseBt"
      },
      "source": [
        "A strip plot is a graphical data anlysis technique for summarizing a univariate data set. The strip plot consists of:\n",
        "\n",
        "    1. Horizontal axis = the value of the response variable;\n",
        "    2. Verticalal axis = all values are set to 1.\n",
        "\n",
        "That is, a strip plot is simply a plot of the sorted response values along one axis. The strip plot is an alternative to a histogram or a density plot. It is typically used for small data sets (histograms and density plots are typically preferred for larger data sets). "
      ]
    },
    {
      "cell_type": "code",
      "execution_count": null,
      "metadata": {
        "colab": {
          "base_uri": "https://localhost:8080/",
          "height": 405
        },
        "id": "_asaCda3seBu",
        "outputId": "a8b54420-c0c1-4e9e-fcc9-8d81cc336b08"
      },
      "outputs": [],
      "source": [
        "# strip plot between yearsExperience and salary columns\n",
        "plt.figure(figsize=(20,6))\n",
        "\n",
        "\n",
        "\n"
      ]
    },
    {
      "cell_type": "markdown",
      "metadata": {
        "id": "dP8uGJKzt48X"
      },
      "source": [
        "from above strip plot:\n",
        "\n",
        "Distribution of values of Salary increases for increase in values of yearsExperience"
      ]
    },
    {
      "cell_type": "code",
      "execution_count": null,
      "metadata": {
        "colab": {
          "base_uri": "https://localhost:8080/",
          "height": 405
        },
        "id": "qq3gf2uvseBu",
        "outputId": "30552251-1e1e-431e-f02f-2334be0bff47"
      },
      "outputs": [],
      "source": [
        "# strip plot between milesFromMetropolis and salary columns\n",
        "plt.figure(figsize=(20,6))\n",
        "\n",
        "\n"
      ]
    },
    {
      "cell_type": "markdown",
      "metadata": {
        "id": "XwFCudzQuE5T"
      },
      "source": [
        "from above strip plot:\n",
        "\n",
        "Distribution of values of Salary decreases for increase in values of milesFromMetropolis"
      ]
    },
    {
      "cell_type": "markdown",
      "metadata": {
        "id": "50HVkfLrV8Jy"
      },
      "source": [
        "## Variance inflation factor (VIF)"
      ]
    },
    {
      "cell_type": "markdown",
      "metadata": {
        "id": "T1l78DhkseBu"
      },
      "source": [
        "1. The variance inflation factor (VIF) quantifies the extent of correlation between one predictor and the other predictors in a model. \n",
        "2. It is used for diagnosing collinearity/multicollinearity. \n",
        "3. Higher values signify that it is difficult to impossible to assess accurately the contribution of predictors to a model."
      ]
    },
    {
      "cell_type": "code",
      "execution_count": null,
      "metadata": {
        "id": "9JG5MFf-ZOMe"
      },
      "outputs": [],
      "source": [
        "# import statsmodle library for vif \n",
        "import statsmodels.api as sm"
      ]
    },
    {
      "cell_type": "code",
      "execution_count": null,
      "metadata": {},
      "outputs": [],
      "source": [
        "num_cols = [col for col in numerical_columns if col != 'salary']\n",
        "train_data[num_cols]"
      ]
    },
    {
      "cell_type": "code",
      "execution_count": null,
      "metadata": {
        "colab": {
          "base_uri": "https://localhost:8080/"
        },
        "id": "U2to3wuHV53j",
        "outputId": "3d674c50-79e8-4d4f-9b95-4029f0154028"
      },
      "outputs": [],
      "source": [
        "# creating a dataframe of just numerical values\n",
        "train_for_vif = train_data[num_cols]\n",
        "\n",
        "\n",
        "# target values\n",
        "target = train_data['salary']\n",
        "\n",
        "\n",
        "# numerical values column names\n",
        "names = ['yearsExperience','milesFromMetropolis']\n",
        "train_for_vif.dropna(inplace=True)\n",
        "names"
      ]
    },
    {
      "cell_type": "code",
      "execution_count": null,
      "metadata": {
        "colab": {
          "base_uri": "https://localhost:8080/"
        },
        "id": "s4OlQ0SmYR-I",
        "outputId": "e14cfc5a-0bf4-4dcd-889a-1adbc20f35a5"
      },
      "outputs": [],
      "source": [
        "# Calculating VIF for each feature.\n",
        "for i in range(0, len(names)):\n",
        "  # taking one column as target variable\n",
        "  y = train_for_vif.loc[:, train_for_vif.columns == names[i]]\n",
        "  # taking all other remaining columns as fetaure variable\n",
        "  x = train_for_vif.loc[:, train_for_vif.columns != names[i]]\n",
        "  # firting the OLS model on y and x\n",
        "  model = sm.OLS(y,x)\n",
        "  results = model.fit()\n",
        " \n",
        "  # geting the r^2 value of results.\n",
        "  rsq = results.rsquared\n",
        "  # calculating vif value\n",
        "  vif = round(1/(1-rsq),2)\n",
        "  print(\"R Square value of {} column is {} keeping all other columns as features\".format(names[i],(round(rsq, 2))))\n",
        "  print(\"Variance inflation Factor of {} columns is {} \\n\".format(names[i], vif))"
      ]
    },
    {
      "cell_type": "markdown",
      "metadata": {
        "id": "VgWYOixhe_RR"
      },
      "source": [
        "Observations:\n",
        "\n",
        "there is colinearity/multicolinearity between \n",
        "variables as the VIF value is almost upto 2.5\n",
        "\n",
        "1. yearsExperience and milesFromMetropolis both have colinearity with all the variables."
      ]
    },
    {
      "cell_type": "markdown",
      "metadata": {
        "id": "oAjLAfTymlI7"
      },
      "source": [
        "## ANOVA Test"
      ]
    },
    {
      "cell_type": "markdown",
      "metadata": {
        "id": "GZwCskrOzPKv"
      },
      "source": [
        "### Normality Assumption Check"
      ]
    },
    {
      "cell_type": "markdown",
      "metadata": {
        "id": "0SxFscN9ziTe"
      },
      "source": [
        "Before we perform the hypothesis test, we check if the assumptions for the one-way ANOVA hypothesis test are fulfilled. The samples are random and independent samples. Now, we check the normality assumption by plotting a normal probability plot (Q-Q plots) for each grouped variable."
      ]
    },
    {
      "cell_type": "markdown",
      "metadata": {
        "id": "GYbKCsVdznzZ"
      },
      "source": [
        "### Homogeneity of variance Assumption Check"
      ]
    },
    {
      "cell_type": "markdown",
      "metadata": {
        "id": "i9eK67Xrzxpf"
      },
      "source": [
        "### Hypothesis Testing"
      ]
    },
    {
      "cell_type": "markdown",
      "metadata": {
        "id": "vI34rpBMzw1c"
      },
      "source": [
        "According to five steps process of hypothesis testing:\n",
        "H₀: μ₁= μ₂ = μ₃ = … = μ₆\n",
        "H₁: Not all salary means are equal\n",
        "α = 0.05\n",
        "According to F test statistics:"
      ]
    },
    {
      "cell_type": "code",
      "execution_count": null,
      "metadata": {
        "id": "zyv7nMcdmk19"
      },
      "outputs": [],
      "source": [
        "# perform anova test between two variables.\n",
        "\n",
        "def perform_anova_test(x,y):\n",
        "  # two variables of interest\n",
        "  train_anova = train_data[[x,y]]\n",
        "  groups = train_anova.groupby(x).count().reset_index()\n",
        "  # groups.plot(kind='bar',x='major',y='salary')\n",
        "  print(groups)\n",
        "\n",
        "\n",
        "  unique_majors = train_anova[x].unique()\n",
        "  for major in unique_majors:\n",
        "      stats.probplot(train_anova[train_anova[x] == major][y], dist=\"norm\", plot=plt)\n",
        "      plt.title(\"Probability Plot - \" +  str(major))\n",
        "      plt.show()\n",
        "\n",
        "\n",
        "  # calculate ratio of the largest to the smallest sample standard deviation\n",
        "  ratio = train_anova.groupby(x).std().max() / train_anova.groupby(x).std().min()\n",
        "  print(ratio)\n",
        "\n",
        "\n",
        "  # Create ANOVA backbone table\n",
        "  data = [['Between Groups', '', '', '', '', '', ''], ['Within Groups', '', '', '', '', '', ''], ['Total', '', '', '', '', '', '']] \n",
        "  anova_table = pd.DataFrame(data, columns = ['Source of Variation', 'SS', 'df', 'MS', 'F', 'P-value', 'F crit'])    #ss=sum of squares source, ms=mean sum of squares source\n",
        "  anova_table.set_index('Source of Variation', inplace = True)\n",
        "\n",
        "  # calculate SSTR and update anova table\n",
        "  x_bar = train_anova[y].mean()\n",
        "  SSTR = train_anova.groupby(x).count() * (train_anova.groupby(x).mean() - x_bar)**2\n",
        "  anova_table['SS']['Between Groups'] = SSTR[y].sum()\n",
        "\n",
        "  # calculate SSE and update anova table\n",
        "  SSE = (train_anova.groupby(x).count() - 1) * train_anova.groupby(x).std()**2\n",
        "  anova_table['SS']['Within Groups'] = SSE[y].sum()\n",
        "\n",
        "  # calculate SSTR and update anova table\n",
        "  SSTR = SSTR[y].sum() + SSE[y].sum()\n",
        "  anova_table['SS']['Total'] = SSTR\n",
        "\n",
        "  # update degree of freedom\n",
        "  anova_table['df']['Between Groups'] = train_anova[x].nunique() - 1\n",
        "  anova_table['df']['Within Groups'] = train_anova.shape[0] - train_anova[x].nunique()\n",
        "  anova_table['df']['Total'] = train_anova.shape[0] - 1\n",
        "\n",
        "  # calculate MS\n",
        "  anova_table['MS'] = anova_table['SS'] / anova_table['df']\n",
        "\n",
        "  # calculate F \n",
        "  F = anova_table['MS']['Between Groups'] / anova_table['MS']['Within Groups']\n",
        "  anova_table['F']['Between Groups'] = F\n",
        "\n",
        "  # p-value\n",
        "  anova_table['P-value']['Between Groups'] = 1 - stats.f.cdf(F, anova_table['df']['Between Groups'], anova_table['df']['Within Groups'])\n",
        "\n",
        "  # F critical \n",
        "  alpha = 0.05\n",
        "  # possible types \"right-tailed, left-tailed, two-tailed\"\n",
        "  tail_hypothesis_type = \"two-tailed\"\n",
        "  if tail_hypothesis_type == \"two-tailed\":\n",
        "      alpha /= 2\n",
        "  anova_table['F crit']['Between Groups'] = stats.f.ppf(1-alpha, anova_table['df']['Between Groups'], anova_table['df']['Within Groups'])\n",
        "\n",
        "  # Final ANOVA Table\n",
        "  print(anova_table)\n",
        "\n",
        "\n",
        "  # The p-value approach\n",
        "  print(\"Approach 1: The p-value approach to hypothesis testing in the decision rule\")\n",
        "  conclusion = \"Failed to reject the null hypothesis.\"\n",
        "  if anova_table['P-value']['Between Groups'] <= alpha:\n",
        "      conclusion = \"Null Hypothesis is rejected.\"\n",
        "  print(\"F-score is:\", anova_table['F']['Between Groups'], \" and p value is:\", anova_table['P-value']['Between Groups'])    \n",
        "  print(conclusion)\n",
        "      \n",
        "  # The critical value approach\n",
        "  print(\"\\n--------------------------------------------------------------------------------------\")\n",
        "  print(\"Approach 2: The critical value approach to hypothesis testing in the decision rule\")\n",
        "  conclusion = \"Failed to reject the null hypothesis.\"\n",
        "  if anova_table['F']['Between Groups'] > anova_table['F crit']['Between Groups']:\n",
        "      conclusion = \"Null Hypothesis is rejected.\"\n",
        "  print(\"F-score is:\", anova_table['F']['Between Groups'], \" and critical value is:\", anova_table['F crit']['Between Groups'])\n",
        "  print(conclusion)"
      ]
    },
    {
      "cell_type": "code",
      "execution_count": null,
      "metadata": {
        "colab": {
          "base_uri": "https://localhost:8080/",
          "height": 1000
        },
        "id": "P-cVMQw4u60V",
        "outputId": "084b7f3e-9add-448d-a4f4-2bacbf6a8d6c"
      },
      "outputs": [],
      "source": [
        "# perform anova test on major and salary\n",
        "perform_anova_test('major', 'salary')\n",
        "\n"
      ]
    },
    {
      "cell_type": "code",
      "execution_count": null,
      "metadata": {
        "colab": {
          "base_uri": "https://localhost:8080/",
          "height": 1000
        },
        "id": "5upd-pxYvCp0",
        "outputId": "67e39a0b-9851-43db-b52f-0d86514ddea6"
      },
      "outputs": [],
      "source": [
        "# perform anova test on jobType and salary\n",
        "\n",
        "perform_anova_test('jobType','salary')\n"
      ]
    },
    {
      "cell_type": "code",
      "execution_count": null,
      "metadata": {
        "colab": {
          "base_uri": "https://localhost:8080/",
          "height": 1000
        },
        "id": "pCYzVyPOvE53",
        "outputId": "9595ae18-bf38-41e6-8821-9d8cdd16bf8a"
      },
      "outputs": [],
      "source": [
        "# perform anova test on degree and salary\n",
        "perform_anova_test('degree','salary')\n",
        "\n"
      ]
    },
    {
      "cell_type": "code",
      "execution_count": null,
      "metadata": {
        "colab": {
          "base_uri": "https://localhost:8080/",
          "height": 1000
        },
        "id": "be7tDn4gvI5D",
        "outputId": "f796ba4f-0be2-4afc-eba4-33837efcfb5f"
      },
      "outputs": [],
      "source": [
        "# perform anova test on industry and salary\n",
        "perform_anova_test('industry','salary')\n",
        "\n"
      ]
    },
    {
      "cell_type": "code",
      "execution_count": null,
      "metadata": {
        "colab": {
          "base_uri": "https://localhost:8080/",
          "height": 1000
        },
        "id": "WiyuykTZy1Gi",
        "outputId": "64af522b-1cec-48d8-ce92-586248db56fb"
      },
      "outputs": [],
      "source": [
        "# perform anova test on jobType and yearsExperience\n",
        "perform_anova_test('jobType','yearsExperience')\n",
        "\n"
      ]
    },
    {
      "cell_type": "code",
      "execution_count": null,
      "metadata": {
        "colab": {
          "base_uri": "https://localhost:8080/",
          "height": 1000
        },
        "id": "TeB9jtyyyyRy",
        "outputId": "6a062929-7342-400f-b5dc-9200a0c88940"
      },
      "outputs": [],
      "source": [
        "# perform anova test on degree and yearsExperience\n",
        "perform_anova_test('degree','yearsExperience')\n",
        "\n"
      ]
    },
    {
      "cell_type": "code",
      "execution_count": null,
      "metadata": {
        "colab": {
          "base_uri": "https://localhost:8080/",
          "height": 1000
        },
        "id": "tWXBUj7NywTw",
        "outputId": "ad1eea55-edfe-49ed-e96b-b220ad9e2bfa"
      },
      "outputs": [],
      "source": [
        "# perform anova test on major and yearsExperience\n",
        "perform_anova_test('major','yearsExperience')\n",
        "\n"
      ]
    },
    {
      "cell_type": "code",
      "execution_count": null,
      "metadata": {
        "colab": {
          "base_uri": "https://localhost:8080/",
          "height": 1000
        },
        "id": "HQHufKC6vLFq",
        "outputId": "ef98a595-c870-458d-a573-30a1ec6eaa89"
      },
      "outputs": [],
      "source": [
        "# perform anova test on industry and yearsExperience\n",
        "perform_anova_test('industry','yearsExperience')"
      ]
    },
    {
      "cell_type": "markdown",
      "metadata": {
        "id": "eMaT-Ta4seB2"
      },
      "source": [
        "## Dendrogram"
      ]
    },
    {
      "cell_type": "markdown",
      "metadata": {
        "id": "a9tOPEdjmg0c"
      },
      "source": [
        "The dendrogram is a visual representation of the compound correlation data. The individual compounds are arranged along the bottom of the dendrogram and referred to as leaf nodes. Compound clusters are formed by joining individual compounds or existing compound clusters with the join point referred to as a node."
      ]
    },
    {
      "cell_type": "code",
      "execution_count": null,
      "metadata": {
        "colab": {
          "base_uri": "https://localhost:8080/",
          "height": 592
        },
        "id": "9TgLg79uqby9",
        "outputId": "3941e944-1e4d-4d90-d308-42080377ff60",
        "scrolled": true
      },
      "outputs": [],
      "source": [
        "# Plot a Dendrogram on the columns of the dataset (use 50000 sample of 1000000)\n",
        "X = train_data\n",
        "\n",
        "\n",
        "\n",
        "import scipy\n",
        "from scipy.cluster import hierarchy as hc\n",
        "\n",
        "corr = np.round(scipy.stats.spearmanr(X).correlation, 4)\n",
        "corr_condensed = hc.distance.squareform(1-corr)\n",
        "z = hc.linkage(corr_condensed, method='average')\n",
        "fig = plt.figure(figsize=(16,10))\n",
        "dendrogram = hc.dendrogram(z, labels=X.columns, orientation='left',leaf_font_size=16)\n",
        "\n",
        "\n",
        "\n"
      ]
    },
    {
      "cell_type": "markdown",
      "metadata": {
        "id": "FcASQZxGseB3"
      },
      "source": [
        "observation from dendrogram\n",
        "\n",
        "Strongly correlated variables:\n",
        "1. major and degree\n",
        "2. salary and yearsExperience"
      ]
    },
    {
      "cell_type": "markdown",
      "metadata": {
        "id": "_gW9D8dEKOWL"
      },
      "source": [
        "## Since, there are no missing values and all the data are distributed equally. We can start converting the categoricl values to numerical."
      ]
    },
    {
      "cell_type": "markdown",
      "metadata": {
        "id": "oS9ZRv_5seB3"
      },
      "source": [
        "## Scaling"
      ]
    },
    {
      "cell_type": "markdown",
      "metadata": {
        "id": "tU_PdrWcseB4"
      },
      "source": [
        "### Why scaling is necessary?"
      ]
    },
    {
      "cell_type": "markdown",
      "metadata": {
        "id": "T-HBxpvPseB4"
      },
      "source": [
        "* Most of the times, your dataset will contain features highly varying in magnitudes, units and range. But since, most of the machine learning algorithms use Euclidean distance between two data points in their computations, this is a problem.\n",
        "* If left alone, these algorithms only take in the magnitude of features neglecting the units. \n",
        "* The results would vary greatly between different units, 5kg and 5000gms. \n",
        "* The features with high magnitudes will weigh in a lot more in the distance calculations than features with low magnitudes. \n",
        "* To suppress this effect, we need to bring all features to the same level of magnitudes. This can be achieved by scaling."
      ]
    },
    {
      "cell_type": "code",
      "execution_count": 17,
      "metadata": {
        "id": "-wHvD9sCseB4"
      },
      "outputs": [],
      "source": [
        "# Helper function for scaling all the numerical data using MinMaxScalar\n",
        "from sklearn.preprocessing import MinMaxScaler\n",
        "def scale_data(df,col):\n",
        "  \n",
        "  \n",
        "  scaler = MinMaxScaler()\n",
        "\n",
        "  df[col] = scaler.fit_transform(df[col])\n",
        "  return df"
      ]
    },
    {
      "cell_type": "code",
      "execution_count": 18,
      "metadata": {
        "id": "EG7KyrtNseB4"
      },
      "outputs": [],
      "source": [
        "# Making a list of the column names to be scaled \n",
        "col_train = ['yearsExperience','milesFromMetropolis']\n",
        "\n",
        "# passing data and name for scaling\n",
        "train_data = scale_data(train_data, col_train)\n",
        "\n"
      ]
    },
    {
      "cell_type": "markdown",
      "metadata": {
        "id": "qDfHAcV0AjWP"
      },
      "source": [
        "# Modelling"
      ]
    },
    {
      "cell_type": "markdown",
      "metadata": {
        "id": "WXsNJlgwgW9d"
      },
      "source": [
        "### One-hot-encoding\n",
        "\n",
        "A one-hot encoding can be applied to the categorical representation. This is where the categorical variable is removed and a new binary variable is added for each unique categorical value."
      ]
    },
    {
      "cell_type": "code",
      "execution_count": 19,
      "metadata": {
        "id": "n6z-oSvxLgiL"
      },
      "outputs": [],
      "source": [
        "# Importing OneHotEncoder for encoding the categorical data\n",
        "from sklearn.preprocessing import OneHotEncoder as SklearnOneHotEncoder\n",
        "\n",
        "# class for containing all functionality required for OneHotEncoding\n",
        "class OneHotEncoder(SklearnOneHotEncoder):\n",
        "    \n",
        "    def __init__(self, **kwargs):\n",
        "        super(OneHotEncoder, self).__init__(**kwargs)\n",
        "        self.fit_flag = False\n",
        "        \n",
        "    # helper function to fit data  \n",
        "    def fit(self, X, **kwargs):\n",
        "        out = super().fit(X)\n",
        "        self.fit_flag = True\n",
        "        return out\n",
        "    \n",
        "    # helper function to transform data  \n",
        "    def transform(self, X, **kwargs):\n",
        "        sparse_matrix = super(OneHotEncoder, self).transform(X)\n",
        "        new_columns = self.get_new_columns(X=X)\n",
        "        d_out = pd.DataFrame(sparse_matrix.toarray(), columns=new_columns, index=X.index)\n",
        "        return d_out\n",
        "    \n",
        "    # helper function to fit and transform data \n",
        "    def fit_transform(self, X, **kwargs):\n",
        "        self.fit(X)\n",
        "        return self.transform(X)\n",
        "    \n",
        "    # helper function to get new column names after fitting and tranforming data \n",
        "    def get_new_columns(self, X):\n",
        "        new_columns = []\n",
        "        for i, column in enumerate(X.columns):\n",
        "            j = 0\n",
        "            while j < len(self.categories_[i]):\n",
        "                new_columns.append(f'{column}{self.categories_[i][j]}')\n",
        "                j += 1\n",
        "        return new_columns"
      ]
    },
    {
      "cell_type": "code",
      "execution_count": 20,
      "metadata": {},
      "outputs": [
        {
          "data": {
            "text/plain": [
              "Index(['jobType', 'degree', 'major', 'industry', 'yearsExperience',\n",
              "       'milesFromMetropolis', 'salary'],\n",
              "      dtype='object')"
            ]
          },
          "execution_count": 20,
          "metadata": {},
          "output_type": "execute_result"
        }
      ],
      "source": [
        "train_data.columns"
      ]
    },
    {
      "cell_type": "code",
      "execution_count": 21,
      "metadata": {
        "id": "puYpPEERoI0M"
      },
      "outputs": [],
      "source": [
        "# Split the labels and the target\n",
        "train_X = train_data.drop(['salary', 'yearsExperience','milesFromMetropolis'], axis=1)\n",
        "train_Y = train_data['salary']"
      ]
    },
    {
      "cell_type": "code",
      "execution_count": 23,
      "metadata": {},
      "outputs": [
        {
          "data": {
            "text/plain": [
              "['yearsExperience', 'milesFromMetropolis', 'salary']"
            ]
          },
          "execution_count": 23,
          "metadata": {},
          "output_type": "execute_result"
        }
      ],
      "source": [
        "numerical_columns"
      ]
    },
    {
      "cell_type": "code",
      "execution_count": 24,
      "metadata": {},
      "outputs": [
        {
          "data": {
            "text/plain": [
              "['jobType', 'degree', 'major', 'industry']"
            ]
          },
          "execution_count": 24,
          "metadata": {},
          "output_type": "execute_result"
        }
      ],
      "source": [
        "category_columns"
      ]
    },
    {
      "cell_type": "code",
      "execution_count": 22,
      "metadata": {
        "colab": {
          "base_uri": "https://localhost:8080/",
          "height": 206
        },
        "id": "MHcgPihWoI0M",
        "outputId": "338a25f1-94d1-4d82-8234-6ecd2ab3129d"
      },
      "outputs": [
        {
          "data": {
            "text/html": [
              "<div>\n",
              "<style scoped>\n",
              "    .dataframe tbody tr th:only-of-type {\n",
              "        vertical-align: middle;\n",
              "    }\n",
              "\n",
              "    .dataframe tbody tr th {\n",
              "        vertical-align: top;\n",
              "    }\n",
              "\n",
              "    .dataframe thead th {\n",
              "        text-align: right;\n",
              "    }\n",
              "</style>\n",
              "<table border=\"1\" class=\"dataframe\">\n",
              "  <thead>\n",
              "    <tr style=\"text-align: right;\">\n",
              "      <th></th>\n",
              "      <th>jobType</th>\n",
              "      <th>degree</th>\n",
              "      <th>major</th>\n",
              "      <th>industry</th>\n",
              "    </tr>\n",
              "  </thead>\n",
              "  <tbody>\n",
              "    <tr>\n",
              "      <th>818324</th>\n",
              "      <td>CTO</td>\n",
              "      <td>BACHELORS</td>\n",
              "      <td>CHEMISTRY</td>\n",
              "      <td>SERVICE</td>\n",
              "    </tr>\n",
              "    <tr>\n",
              "      <th>676357</th>\n",
              "      <td>JUNIOR</td>\n",
              "      <td>HIGH_SCHOOL</td>\n",
              "      <td>NONE</td>\n",
              "      <td>EDUCATION</td>\n",
              "    </tr>\n",
              "    <tr>\n",
              "      <th>268035</th>\n",
              "      <td>CEO</td>\n",
              "      <td>HIGH_SCHOOL</td>\n",
              "      <td>NONE</td>\n",
              "      <td>WEB</td>\n",
              "    </tr>\n",
              "    <tr>\n",
              "      <th>897005</th>\n",
              "      <td>JANITOR</td>\n",
              "      <td>HIGH_SCHOOL</td>\n",
              "      <td>NONE</td>\n",
              "      <td>FINANCE</td>\n",
              "    </tr>\n",
              "    <tr>\n",
              "      <th>885342</th>\n",
              "      <td>MANAGER</td>\n",
              "      <td>BACHELORS</td>\n",
              "      <td>COMPSCI</td>\n",
              "      <td>AUTO</td>\n",
              "    </tr>\n",
              "  </tbody>\n",
              "</table>\n",
              "</div>"
            ],
            "text/plain": [
              "        jobType       degree      major   industry\n",
              "818324      CTO    BACHELORS  CHEMISTRY    SERVICE\n",
              "676357   JUNIOR  HIGH_SCHOOL       NONE  EDUCATION\n",
              "268035      CEO  HIGH_SCHOOL       NONE        WEB\n",
              "897005  JANITOR  HIGH_SCHOOL       NONE    FINANCE\n",
              "885342  MANAGER    BACHELORS    COMPSCI       AUTO"
            ]
          },
          "execution_count": 22,
          "metadata": {},
          "output_type": "execute_result"
        }
      ],
      "source": [
        "# Features\n",
        "\n",
        "train_X.head()\n"
      ]
    },
    {
      "cell_type": "code",
      "execution_count": 26,
      "metadata": {
        "colab": {
          "base_uri": "https://localhost:8080/"
        },
        "id": "B1dO18e6oI0M",
        "outputId": "6c5021e0-32c9-4aca-b4ae-fd7f32e02a07"
      },
      "outputs": [
        {
          "data": {
            "text/plain": [
              "818324     88\n",
              "676357     62\n",
              "268035     86\n",
              "897005     90\n",
              "885342    132\n",
              "Name: salary, dtype: int64"
            ]
          },
          "execution_count": 26,
          "metadata": {},
          "output_type": "execute_result"
        }
      ],
      "source": [
        "# Target\n",
        "\n",
        "train_Y.head()\n"
      ]
    },
    {
      "cell_type": "code",
      "execution_count": 27,
      "metadata": {
        "colab": {
          "base_uri": "https://localhost:8080/",
          "height": 299
        },
        "id": "sjaReZIaoI0N",
        "outputId": "c4ef22b7-3029-4d05-c5e2-002d732ac21f"
      },
      "outputs": [
        {
          "data": {
            "text/html": [
              "<div>\n",
              "<style scoped>\n",
              "    .dataframe tbody tr th:only-of-type {\n",
              "        vertical-align: middle;\n",
              "    }\n",
              "\n",
              "    .dataframe tbody tr th {\n",
              "        vertical-align: top;\n",
              "    }\n",
              "\n",
              "    .dataframe thead th {\n",
              "        text-align: right;\n",
              "    }\n",
              "</style>\n",
              "<table border=\"1\" class=\"dataframe\">\n",
              "  <thead>\n",
              "    <tr style=\"text-align: right;\">\n",
              "      <th></th>\n",
              "      <th>jobTypeCEO</th>\n",
              "      <th>jobTypeCFO</th>\n",
              "      <th>jobTypeCTO</th>\n",
              "      <th>jobTypeJANITOR</th>\n",
              "      <th>jobTypeJUNIOR</th>\n",
              "      <th>jobTypeMANAGER</th>\n",
              "      <th>jobTypeSENIOR</th>\n",
              "      <th>jobTypeVICE_PRESIDENT</th>\n",
              "      <th>degreeBACHELORS</th>\n",
              "      <th>degreeDOCTORAL</th>\n",
              "      <th>...</th>\n",
              "      <th>majorPHYSICS</th>\n",
              "      <th>industryAUTO</th>\n",
              "      <th>industryEDUCATION</th>\n",
              "      <th>industryFINANCE</th>\n",
              "      <th>industryHEALTH</th>\n",
              "      <th>industryOIL</th>\n",
              "      <th>industrySERVICE</th>\n",
              "      <th>industryWEB</th>\n",
              "      <th>yearsExperience</th>\n",
              "      <th>milesFromMetropolis</th>\n",
              "    </tr>\n",
              "  </thead>\n",
              "  <tbody>\n",
              "    <tr>\n",
              "      <th>818324</th>\n",
              "      <td>0.0</td>\n",
              "      <td>0.0</td>\n",
              "      <td>1.0</td>\n",
              "      <td>0.0</td>\n",
              "      <td>0.0</td>\n",
              "      <td>0.0</td>\n",
              "      <td>0.0</td>\n",
              "      <td>0.0</td>\n",
              "      <td>1.0</td>\n",
              "      <td>0.0</td>\n",
              "      <td>...</td>\n",
              "      <td>0.0</td>\n",
              "      <td>0.0</td>\n",
              "      <td>0.0</td>\n",
              "      <td>0.0</td>\n",
              "      <td>0.0</td>\n",
              "      <td>0.0</td>\n",
              "      <td>1.0</td>\n",
              "      <td>0.0</td>\n",
              "      <td>0.291667</td>\n",
              "      <td>0.888889</td>\n",
              "    </tr>\n",
              "    <tr>\n",
              "      <th>676357</th>\n",
              "      <td>0.0</td>\n",
              "      <td>0.0</td>\n",
              "      <td>0.0</td>\n",
              "      <td>0.0</td>\n",
              "      <td>1.0</td>\n",
              "      <td>0.0</td>\n",
              "      <td>0.0</td>\n",
              "      <td>0.0</td>\n",
              "      <td>0.0</td>\n",
              "      <td>0.0</td>\n",
              "      <td>...</td>\n",
              "      <td>0.0</td>\n",
              "      <td>0.0</td>\n",
              "      <td>1.0</td>\n",
              "      <td>0.0</td>\n",
              "      <td>0.0</td>\n",
              "      <td>0.0</td>\n",
              "      <td>0.0</td>\n",
              "      <td>0.0</td>\n",
              "      <td>0.625000</td>\n",
              "      <td>0.565657</td>\n",
              "    </tr>\n",
              "    <tr>\n",
              "      <th>268035</th>\n",
              "      <td>1.0</td>\n",
              "      <td>0.0</td>\n",
              "      <td>0.0</td>\n",
              "      <td>0.0</td>\n",
              "      <td>0.0</td>\n",
              "      <td>0.0</td>\n",
              "      <td>0.0</td>\n",
              "      <td>0.0</td>\n",
              "      <td>0.0</td>\n",
              "      <td>0.0</td>\n",
              "      <td>...</td>\n",
              "      <td>0.0</td>\n",
              "      <td>0.0</td>\n",
              "      <td>0.0</td>\n",
              "      <td>0.0</td>\n",
              "      <td>0.0</td>\n",
              "      <td>0.0</td>\n",
              "      <td>0.0</td>\n",
              "      <td>1.0</td>\n",
              "      <td>0.041667</td>\n",
              "      <td>0.949495</td>\n",
              "    </tr>\n",
              "    <tr>\n",
              "      <th>897005</th>\n",
              "      <td>0.0</td>\n",
              "      <td>0.0</td>\n",
              "      <td>0.0</td>\n",
              "      <td>1.0</td>\n",
              "      <td>0.0</td>\n",
              "      <td>0.0</td>\n",
              "      <td>0.0</td>\n",
              "      <td>0.0</td>\n",
              "      <td>0.0</td>\n",
              "      <td>0.0</td>\n",
              "      <td>...</td>\n",
              "      <td>0.0</td>\n",
              "      <td>0.0</td>\n",
              "      <td>0.0</td>\n",
              "      <td>1.0</td>\n",
              "      <td>0.0</td>\n",
              "      <td>0.0</td>\n",
              "      <td>0.0</td>\n",
              "      <td>0.0</td>\n",
              "      <td>0.083333</td>\n",
              "      <td>0.010101</td>\n",
              "    </tr>\n",
              "    <tr>\n",
              "      <th>885342</th>\n",
              "      <td>0.0</td>\n",
              "      <td>0.0</td>\n",
              "      <td>0.0</td>\n",
              "      <td>0.0</td>\n",
              "      <td>0.0</td>\n",
              "      <td>1.0</td>\n",
              "      <td>0.0</td>\n",
              "      <td>0.0</td>\n",
              "      <td>1.0</td>\n",
              "      <td>0.0</td>\n",
              "      <td>...</td>\n",
              "      <td>0.0</td>\n",
              "      <td>1.0</td>\n",
              "      <td>0.0</td>\n",
              "      <td>0.0</td>\n",
              "      <td>0.0</td>\n",
              "      <td>0.0</td>\n",
              "      <td>0.0</td>\n",
              "      <td>0.0</td>\n",
              "      <td>0.208333</td>\n",
              "      <td>0.272727</td>\n",
              "    </tr>\n",
              "  </tbody>\n",
              "</table>\n",
              "<p>5 rows × 31 columns</p>\n",
              "</div>"
            ],
            "text/plain": [
              "        jobTypeCEO  jobTypeCFO  jobTypeCTO  jobTypeJANITOR  jobTypeJUNIOR  \\\n",
              "818324         0.0         0.0         1.0             0.0            0.0   \n",
              "676357         0.0         0.0         0.0             0.0            1.0   \n",
              "268035         1.0         0.0         0.0             0.0            0.0   \n",
              "897005         0.0         0.0         0.0             1.0            0.0   \n",
              "885342         0.0         0.0         0.0             0.0            0.0   \n",
              "\n",
              "        jobTypeMANAGER  jobTypeSENIOR  jobTypeVICE_PRESIDENT  degreeBACHELORS  \\\n",
              "818324             0.0            0.0                    0.0              1.0   \n",
              "676357             0.0            0.0                    0.0              0.0   \n",
              "268035             0.0            0.0                    0.0              0.0   \n",
              "897005             0.0            0.0                    0.0              0.0   \n",
              "885342             1.0            0.0                    0.0              1.0   \n",
              "\n",
              "        degreeDOCTORAL  ...  majorPHYSICS  industryAUTO  industryEDUCATION  \\\n",
              "818324             0.0  ...           0.0           0.0                0.0   \n",
              "676357             0.0  ...           0.0           0.0                1.0   \n",
              "268035             0.0  ...           0.0           0.0                0.0   \n",
              "897005             0.0  ...           0.0           0.0                0.0   \n",
              "885342             0.0  ...           0.0           1.0                0.0   \n",
              "\n",
              "        industryFINANCE  industryHEALTH  industryOIL  industrySERVICE  \\\n",
              "818324              0.0             0.0          0.0              1.0   \n",
              "676357              0.0             0.0          0.0              0.0   \n",
              "268035              0.0             0.0          0.0              0.0   \n",
              "897005              1.0             0.0          0.0              0.0   \n",
              "885342              0.0             0.0          0.0              0.0   \n",
              "\n",
              "        industryWEB  yearsExperience  milesFromMetropolis  \n",
              "818324          0.0         0.291667             0.888889  \n",
              "676357          0.0         0.625000             0.565657  \n",
              "268035          1.0         0.041667             0.949495  \n",
              "897005          0.0         0.083333             0.010101  \n",
              "885342          0.0         0.208333             0.272727  \n",
              "\n",
              "[5 rows x 31 columns]"
            ]
          },
          "execution_count": 27,
          "metadata": {},
          "output_type": "execute_result"
        }
      ],
      "source": [
        "# passing features dataframe for one hot encoding process\n",
        "encoder = OneHotEncoder() \n",
        "train_X = encoder.fit_transform(train_X)\n",
        "train_X = train_X.join(train_data['yearsExperience'])\n",
        "train_X = train_X.join(train_data['milesFromMetropolis'])\n",
        "train_X.head()\n",
        "\n"
      ]
    },
    {
      "cell_type": "code",
      "execution_count": 29,
      "metadata": {
        "id": "SBErCilgoI0N"
      },
      "outputs": [],
      "source": [
        "#importing Sklearn library for spliting train dataset into train and test dataset(size=0.2)\n",
        "from sklearn.model_selection import train_test_split\n",
        "X_train, X_test, y_train, y_test = train_test_split(train_X,train_Y, test_size=0.3)\n"
      ]
    },
    {
      "cell_type": "code",
      "execution_count": 30,
      "metadata": {
        "id": "v0KZ21Xr1D7r"
      },
      "outputs": [],
      "source": [
        "# importing necessary libraries for geting metrics of models\n",
        "import math\n",
        "import sklearn.metrics as metrics\n",
        "from sklearn.metrics import median_absolute_error\n",
        "\n",
        "# Function for calculating RMSE \n",
        "def rmse(x,y): \n",
        "    return np.sqrt(((x-y)**2).mean())\n",
        "    \n",
        "\n",
        "\n",
        "# Function for calculating all the relevant metrics \n",
        "def print_score(m):\n",
        "    res = [\n",
        "        rmse(m.predict(X_train),y_train),\n",
        "        rmse(m.predict(X_test), y_test),\n",
        "        m.score(X_train, y_train),\n",
        "        m.score(X_test, y_test),\n",
        "        median_absolute_error(m.predict(X_train),y_train),\n",
        "        median_absolute_error(m.predict(X_test),y_test),\n",
        "        metrics.median_absolute_error(m.predict(X_train),y_train),\n",
        "        metrics.median_absolute_error(m.predict(X_test),y_test)\n",
        "    ]\n",
        "    \n",
        "\n",
        "    \n",
        "    \n",
        "\n",
        "    print(\"RMSE-Train: \" + str(res[0]) + \"\\nRMSE-Test: \" + str(res[1]) + \"\\nScore-Train: \" + str(res[2]) + \"\\nScore-Test: \" + str(res[3]) +\n",
        "         \"\\nMedian_AE-Train: \" + str(res[4]) + \"\\nMedian_AE-Test: \" + str(res[5]) + \"\\nMeanAE-Train: \" + str(res[6]) + \"\\nMeanAE-Test: \" + str(res[7]),'\\n')\n"
      ]
    },
    {
      "cell_type": "code",
      "execution_count": 34,
      "metadata": {
        "id": "1zRbhGeYseB7"
      },
      "outputs": [],
      "source": [
        "# Visualize importance of all the features in the dataset for the prediction\n",
        "\n",
        "def visualize_importance(feature_importances, feat_train_df):\n",
        "    \n",
        "    # creating dataframe for feature name and feature importance\n",
        "    feature_importance_df = pd.DataFrame()\n",
        "\n",
        "    _df = pd.DataFrame()\n",
        "    _df['feature_importance'] = feature_importances\n",
        "    _df['column'] = feat_train_df.columns\n",
        "    feature_importance_df = pd.concat([feature_importance_df,\n",
        "    _df], axis=0, ignore_index=True)\n",
        "    \n",
        "\n",
        "    # grouping all data and sorting in descending order\n",
        "    order = feature_importance_df.groupby('column')\\\n",
        "        .sum()[['feature_importance']]\\\n",
        "        .sort_values('feature_importance', ascending=False).index[:50]\n",
        "    \n",
        "\n",
        "\n",
        "    \n",
        "    # ploting feature importance data using boxenplot\n",
        "    fig, ax = plt.subplots(figsize=(8, max(6, len(order) * .25)))\n",
        "    sns.boxenplot(\n",
        "        data=feature_importance_df,\n",
        "        x='feature_importance',\n",
        "        y='column',\n",
        "        order= order,\n",
        "        ax= ax,\n",
        "        palette='viridis',\n",
        "        orient='h'\n",
        "    )\n",
        "    ax.tick_params(axis='x', rotation=0)\n",
        "    ax.set_title(\"Importance\")\n",
        "    ax.grid()\n",
        "    fig.tight_layout()\n",
        "\n",
        "    return fig, ax\n"
      ]
    },
    {
      "cell_type": "markdown",
      "metadata": {
        "id": "WOYmZ-wolHao"
      },
      "source": [
        "### NOTE:\n",
        "The employee salaries dataset has 1000000 samples.\n",
        "\n",
        "We have used only 50000 samples for training.\n",
        "\n",
        "If you want you can use complete dataset.\n",
        "\n",
        "Using complete dataset will take longer time to train the model."
      ]
    },
    {
      "cell_type": "markdown",
      "metadata": {
        "id": "uAvyqEsOseB7"
      },
      "source": [
        "### Linear Regression"
      ]
    },
    {
      "cell_type": "code",
      "execution_count": 35,
      "metadata": {
        "colab": {
          "base_uri": "https://localhost:8080/",
          "height": 758
        },
        "id": "jXbLqt2PseB7",
        "outputId": "792a9a54-b491-48af-bfd5-aa1bce02592f"
      },
      "outputs": [
        {
          "name": "stdout",
          "output_type": "stream",
          "text": [
            "RMSE-Train: 19.700379646506292\n",
            "RMSE-Test: 19.52923039453841\n",
            "Score-Train: 0.737654850480834\n",
            "Score-Test: 0.7440509398368451\n",
            "MedAE-Train: 13.84375\n",
            "MedAE-Test: 13.4921875\n",
            "MeanAE-Train: 13.84375\n",
            "MeanAE-Test: 13.4921875 \n",
            "\n",
            "CPU times: total: 375 ms\n",
            "Wall time: 235 ms\n"
          ]
        },
        {
          "data": {
            "image/png": "[encoded data removed]",
            "text/plain": [
              "<Figure size 576x558 with 1 Axes>"
            ]
          },
          "metadata": {
            "needs_background": "light"
          },
          "output_type": "display_data"
        }
      ],
      "source": [
        "%%time\n",
        "# Fit a Linear Regression model to the train dataset\n",
        "\n",
        "# Import LinearRegressor\n",
        "from sklearn.linear_model import LinearRegression\n",
        "\n",
        "# Instantiate the model\n",
        "lModel = LinearRegression() \n",
        "\n",
        "\n",
        "# Fit the model to the data\n",
        "lModel.fit(X_train,y_train)\n",
        "\n",
        "\n",
        "\n",
        "# print score of the model\n",
        "print_score(lModel)\n",
        "\n",
        "\n",
        "\n",
        "# visualizing the inportance of features.\n",
        "fig, ax = visualize_importance(lModel.coef_, train_X)"
      ]
    },
    {
      "cell_type": "markdown",
      "metadata": {
        "id": "a1eouB_PseB8"
      },
      "source": [
        "### Random Forest Regressor"
      ]
    },
    {
      "cell_type": "markdown",
      "metadata": {
        "id": "w39iBNsaseB8"
      },
      "source": [
        "Random forest is a flexible, easy to use machine learning algorithm that produces, even without hyper-parameter tuning, a great result most of the time. It is also one of the most used algorithms, because of its simplicity and diversity."
      ]
    },
    {
      "cell_type": "code",
      "execution_count": 37,
      "metadata": {
        "colab": {
          "base_uri": "https://localhost:8080/",
          "height": 758
        },
        "id": "pVMtnTvnseB8",
        "outputId": "cbbe869d-f064-4e91-f8b0-8882f02a5f05"
      },
      "outputs": [
        {
          "name": "stdout",
          "output_type": "stream",
          "text": [
            "RMSE-Train: 7.908691761094098\n",
            "RMSE-Test: 20.533355562486204\n",
            "Score-Train: 0.9577201783513422\n",
            "Score-Test: 0.7170542751466131\n",
            "MedAE-Train: 5.170000000000002\n",
            "MedAE-Test: 13.879999999999995\n",
            "MeanAE-Train: 5.170000000000002\n",
            "MeanAE-Test: 13.879999999999995 \n",
            "\n",
            "CPU times: total: 4.95 s\n",
            "Wall time: 13.4 s\n"
          ]
        },
        {
          "data": {
            "image/png": "[encoded data removed]",
            "text/plain": [
              "<Figure size 576x558 with 1 Axes>"
            ]
          },
          "metadata": {
            "needs_background": "light"
          },
          "output_type": "display_data"
        }
      ],
      "source": [
        "%%time\n",
        "# Fit a Random Forest Regressor model to the train dataset\n",
        "\n",
        "# Import RandomForrestRegressor\n",
        "from sklearn.ensemble import RandomForestRegressor\n",
        "\n",
        "# Instantiate the model\n",
        "rf= RandomForestRegressor()\n",
        "\n",
        "\n",
        "# Fit the model to the data\n",
        "rf.fit(X_train,y_train)\n",
        "\n",
        "\n",
        "\n",
        "# print score of the model\n",
        "print_score(rf)\n",
        "\n",
        "\n",
        "# visualizing the inportance of features.\n",
        "fig, ax = visualize_importance(rf.feature_importances_,train_X)"
      ]
    },
    {
      "cell_type": "markdown",
      "metadata": {
        "id": "nwEqj2g1seB8"
      },
      "source": [
        "### KNeighbors Regressor"
      ]
    },
    {
      "cell_type": "markdown",
      "metadata": {
        "id": "iI2XelYZseB8"
      },
      "source": [
        "KNN regression is a non-parametric method that, in an intuitive manner, approximates the association between independent variables and the continuous outcome by averaging the observations in the same neighbourhood. The size of the neighbourhood needs to be set by the analyst or can be chosen using cross-validation to select the size that minimises the mean-squared error."
      ]
    },
    {
      "cell_type": "markdown",
      "metadata": {
        "id": "b3q3w-GllACn"
      },
      "source": [
        "### Note:\n",
        "For KNN we used only 10000 samples out of 1000000.\n",
        "You can use complete dataset if you want, it will take longer time to train the model."
      ]
    },
    {
      "cell_type": "code",
      "execution_count": 42,
      "metadata": {
        "colab": {
          "base_uri": "https://localhost:8080/"
        },
        "id": "cO2abE0iseB8",
        "outputId": "89dc8df2-e0c5-4b77-db90-e7b259c3fd18"
      },
      "outputs": [
        {
          "name": "stdout",
          "output_type": "stream",
          "text": [
            "RMSE-Train: 18.432855515228038\n",
            "RMSE-Test: 23.123616666358583\n",
            "Score-Train: 0.770327453484537\n",
            "Score-Test: 0.6411649942206846\n",
            "MedAE-Train: 11.799999999999997\n",
            "MedAE-Test: 14.799999999999997\n",
            "MeanAE-Train: 11.799999999999997\n",
            "MeanAE-Test: 14.799999999999997 \n",
            "\n",
            "CPU times: total: 1min 11s\n",
            "Wall time: 1min 20s\n"
          ]
        }
      ],
      "source": [
        "%%time\n",
        "# Fit a K-Neighbour Regressor model to the train dataset\n",
        "\n",
        "# Import KNeighbourRegressor\n",
        "from sklearn.neighbors import KNeighborsRegressor\n",
        "\n",
        "# Instantiate the model\n",
        "knnr = KNeighborsRegressor()\n",
        "\n",
        "\n",
        "# print score of the model\n",
        "knnr.fit(X_train, y_train)\n",
        "\n",
        "\n",
        "\n",
        "# print score of the model\n",
        "print_score(knnr)\n",
        "\n",
        "# fig, ax = visualize_importance(knnr.feature_names_in_, X_train)\n"
      ]
    },
    {
      "cell_type": "markdown",
      "metadata": {
        "id": "HaQr1q3CseB8"
      },
      "source": [
        "### Gradient Boosting Regressor"
      ]
    },
    {
      "cell_type": "markdown",
      "metadata": {
        "id": "mydULhqaseB9"
      },
      "source": [
        "Gradient Boosting Algorithm is generally used when we want to decrease the Bias error.\n",
        "it builds an additive model in a forward stage-wise fashion; it allows for the optimization of arbitrary differentiable loss functions. In each stage a regression tree is fit on the negative gradient of the given loss function."
      ]
    },
    {
      "cell_type": "code",
      "execution_count": 43,
      "metadata": {
        "colab": {
          "base_uri": "https://localhost:8080/",
          "height": 758
        },
        "id": "L_tVAcMWseB9",
        "outputId": "5fb9f7dd-05e9-4992-86de-72174e85514c"
      },
      "outputs": [
        {
          "name": "stdout",
          "output_type": "stream",
          "text": [
            "RMSE-Train: 19.26740996003104\n",
            "RMSE-Test: 19.45000028613784\n",
            "Score-Train: 0.7490596356983567\n",
            "Score-Test: 0.7461234983218183\n",
            "MedAE-Train: 13.586893554923023\n",
            "MedAE-Test: 13.596218693176269\n",
            "MeanAE-Train: 13.586893554923023\n",
            "MeanAE-Test: 13.596218693176269 \n",
            "\n",
            "CPU times: total: 1.16 s\n",
            "Wall time: 2.76 s\n"
          ]
        },
        {
          "data": {
            "image/png": "[encoded data removed]",
            "text/plain": [
              "<Figure size 576x558 with 1 Axes>"
            ]
          },
          "metadata": {
            "needs_background": "light"
          },
          "output_type": "display_data"
        }
      ],
      "source": [
        "%%time\n",
        "# Fit a Gradient Boosting Regressor model to the train dataset\n",
        "\n",
        "# Import GradientBoostingRegressor\n",
        "from sklearn.ensemble import GradientBoostingRegressor\n",
        "\n",
        "# Instantiate the model\n",
        "GBR = GradientBoostingRegressor()\n",
        "GBR.fit(X_train, y_train)\n",
        "\n",
        "\n",
        "\n",
        "\n",
        "\n",
        "# print score of the model\n",
        "print_score(GBR)\n",
        "\n",
        "\n",
        "\n",
        "# visualizing the inportance of features.\n",
        "fig, ax = visualize_importance(GBR.feature_importances_, X_train)\n",
        "\n",
        "\n"
      ]
    },
    {
      "cell_type": "markdown",
      "metadata": {
        "id": "kw_O643WseB9"
      },
      "source": [
        "### DecisionTree Regressor"
      ]
    },
    {
      "cell_type": "markdown",
      "metadata": {
        "id": "VTSZqNroseB9"
      },
      "source": [
        "Decision tree builds regression or classification models in the form of a tree structure. It breaks down a dataset into smaller and smaller subsets while at the same time an associated decision tree is incrementally developed. The final result is a tree with decision nodes and leaf nodes"
      ]
    },
    {
      "cell_type": "code",
      "execution_count": 45,
      "metadata": {
        "colab": {
          "base_uri": "https://localhost:8080/"
        },
        "id": "2YNsLWSnseB9",
        "outputId": "3f12dc76-f497-4b7b-c629-f53f894e2617"
      },
      "outputs": [
        {
          "name": "stdout",
          "output_type": "stream",
          "text": [
            "RMSE-Train: 1.8726832234430515\n",
            "RMSE-Test: 28.094553339397088\n",
            "Score-Train: 0.9976294316180968\n",
            "Score-Test: 0.470302961418296\n",
            "MedAE-Train: 0.0\n",
            "MedAE-Test: 18.0\n",
            "MeanAE-Train: 0.0\n",
            "MeanAE-Test: 18.0 \n",
            "\n",
            "CPU times: total: 93.8 ms\n",
            "Wall time: 235 ms\n"
          ]
        }
      ],
      "source": [
        "%%time\n",
        "# Fit a Decision Tree Regressor model to the train dataset\n",
        "\n",
        "# Import DecisionTreeRegressor\n",
        "from sklearn.tree import DecisionTreeRegressor\n",
        "\n",
        "# Instantiate the model\n",
        "DTR = DecisionTreeRegressor()\n",
        "\n",
        "\n",
        "\n",
        "# Instantiate the model\n",
        "DTR.fit(X_train, y_train)\n",
        "\n",
        "\n",
        "# print score of the model\n",
        "print_score(DTR)\n",
        "\n"
      ]
    },
    {
      "cell_type": "markdown",
      "metadata": {
        "id": "OVI3RRdFseB9"
      },
      "source": [
        "### AdaBoost Regressor"
      ]
    },
    {
      "cell_type": "markdown",
      "metadata": {
        "id": "3kH6amPAseB-"
      },
      "source": [
        "An AdaBoost regressor is a meta-estimator that begins by fitting a regressor on the original dataset and then fits additional copies of the regressor on the same dataset but where the weights of instances are adjusted according to the error of the current prediction"
      ]
    },
    {
      "cell_type": "code",
      "execution_count": 46,
      "metadata": {
        "colab": {
          "base_uri": "https://localhost:8080/",
          "height": 758
        },
        "id": "zyxsPisuseB-",
        "outputId": "ba991545-24a2-42dd-95fe-affa3dcbd937"
      },
      "outputs": [
        {
          "name": "stdout",
          "output_type": "stream",
          "text": [
            "RMSE-Train: 24.866527425320356\n",
            "RMSE-Test: 24.821431819562683\n",
            "Score-Train: 0.5820213204002832\n",
            "Score-Test: 0.5865367240346436\n",
            "MedAE-Train: 19.154983570646223\n",
            "MedAE-Test: 18.931323283082065\n",
            "MeanAE-Train: 19.154983570646223\n",
            "MeanAE-Test: 18.931323283082065 \n",
            "\n",
            "CPU times: total: 1.86 s\n",
            "Wall time: 3.52 s\n"
          ]
        },
        {
          "data": {
            "image/png": "[encoded data removed]",
            "text/plain": [
              "<Figure size 576x558 with 1 Axes>"
            ]
          },
          "metadata": {
            "needs_background": "light"
          },
          "output_type": "display_data"
        }
      ],
      "source": [
        "%%time\n",
        "# Fit a AdaBoost Regressor model to the train dataset\n",
        "\n",
        "# Import AdaBoostRegressor\n",
        "from sklearn.ensemble import AdaBoostRegressor\n",
        "\n",
        "# Instantiate the model\n",
        "AdaBoost = AdaBoostRegressor()\n",
        "\n",
        "\n",
        "# Instantiate the model\n",
        "AdaBoost.fit(X_train, y_train)\n",
        "\n",
        "\n",
        "\n",
        "# print score of the model\n",
        "print_score(AdaBoost)\n",
        "\n",
        "\n",
        "\n",
        "# visualizing the inportance of features.\n",
        "fig, ax = visualize_importance(AdaBoost.feature_importances_, train_X)\n",
        "\n",
        "# visualizing the importance of features.\n"
      ]
    },
    {
      "cell_type": "markdown",
      "metadata": {
        "id": "X-fxKyi-seB-"
      },
      "source": [
        "### XGBoost"
      ]
    },
    {
      "cell_type": "markdown",
      "metadata": {
        "id": "vVxAgLgrseB-"
      },
      "source": [
        "XGBoost is an ensemble learning method. Sometimes, it may not be sufficient to rely upon the results of just one machine learning model. Ensemble learning offers a systematic solution to combine the predictive power of multiple learners. The resultant is a single model which gives the aggregated output from several models."
      ]
    },
    {
      "cell_type": "code",
      "execution_count": 49,
      "metadata": {},
      "outputs": [
        {
          "name": "stdout",
          "output_type": "stream",
          "text": [
            "Collecting xgboost\n",
            "  Using cached xgboost-2.0.0-py3-none-win_amd64.whl (99.7 MB)\n",
            "Requirement already satisfied: numpy in c:\\users\\nikhi\\anaconda3\\lib\\site-packages (from xgboost) (1.21.5)\n",
            "Requirement already satisfied: scipy in c:\\users\\nikhi\\anaconda3\\lib\\site-packages (from xgboost) (1.7.3)\n",
            "Installing collected packages: xgboost\n",
            "Successfully installed xgboost-2.0.0\n",
            "Note: you may need to restart the kernel to use updated packages.\n"
          ]
        }
      ],
      "source": [
        "pip install xgboost"
      ]
    },
    {
      "cell_type": "code",
      "execution_count": 50,
      "metadata": {
        "colab": {
          "base_uri": "https://localhost:8080/",
          "height": 775
        },
        "id": "cq6vOx4nseB-",
        "outputId": "8418c714-65ac-44d6-8cb4-0e746f4939c0"
      },
      "outputs": [
        {
          "name": "stdout",
          "output_type": "stream",
          "text": [
            "RMSE-Train: 15.933762662846272\n",
            "RMSE-Test: 19.73165276641829\n",
            "Score-Train: 0.828382909148319\n",
            "Score-Test: 0.7387175680985743\n",
            "MedAE-Train: 11.237030029296875\n",
            "MedAE-Test: 13.682334899902344\n",
            "MeanAE-Train: 11.237030029296875\n",
            "MeanAE-Test: 13.682334899902344 \n",
            "\n",
            "CPU times: total: 3.02 s\n",
            "Wall time: 892 ms\n"
          ]
        },
        {
          "data": {
            "image/png": "[encoded data removed]",
            "text/plain": [
              "<Figure size 576x558 with 1 Axes>"
            ]
          },
          "metadata": {
            "needs_background": "light"
          },
          "output_type": "display_data"
        }
      ],
      "source": [
        "%%time\n",
        "# Fit a XGB Regressor model to the train dataset\n",
        "import xgboost\n",
        "# Import XGBRegressor\n",
        "from xgboost import XGBRegressor\n",
        "\n",
        "# Instantiate the model\n",
        "xgbr =XGBRegressor()\n",
        "\n",
        "\n",
        "# Fit the model to the data\n",
        "xgbr.fit(X_train,y_train)\n",
        "\n",
        "\n",
        "# print score of the model\n",
        "print_score(xgbr)\n",
        "\n",
        "\n",
        "# visualizing the inportance of features.\n",
        "fig, ax = visualize_importance(xgbr.feature_importances_, X_train)\n",
        "\n"
      ]
    },
    {
      "cell_type": "markdown",
      "metadata": {
        "id": "akOKcjNWseB_"
      },
      "source": [
        "### Light Gradient Boosted Machine"
      ]
    },
    {
      "cell_type": "markdown",
      "metadata": {
        "id": "ppIsGpcIseB_"
      },
      "source": [
        "Light GBM is a fast, distributed, high-performance gradient boosting framework based on decision tree algorithm, used for ranking, classification and many other machine learning tasks."
      ]
    },
    {
      "cell_type": "code",
      "execution_count": 52,
      "metadata": {},
      "outputs": [
        {
          "name": "stdout",
          "output_type": "stream",
          "text": [
            "Collecting lightgbm\n",
            "  Using cached lightgbm-4.1.0-py3-none-win_amd64.whl (1.3 MB)\n",
            "Requirement already satisfied: numpy in c:\\users\\nikhi\\anaconda3\\lib\\site-packages (from lightgbm) (1.21.5)\n",
            "Requirement already satisfied: scipy in c:\\users\\nikhi\\anaconda3\\lib\\site-packages (from lightgbm) (1.7.3)\n",
            "Installing collected packages: lightgbm\n",
            "Successfully installed lightgbm-4.1.0\n",
            "Note: you may need to restart the kernel to use updated packages.\n"
          ]
        }
      ],
      "source": [
        "pip install lightgbm"
      ]
    },
    {
      "cell_type": "code",
      "execution_count": 54,
      "metadata": {
        "colab": {
          "base_uri": "https://localhost:8080/",
          "height": 758
        },
        "id": "Lebzs08bseB_",
        "outputId": "4a146dce-22de-4b74-cd84-a24a1a8badf8"
      },
      "outputs": [
        {
          "name": "stdout",
          "output_type": "stream",
          "text": [
            "[LightGBM] [Info] Auto-choosing row-wise multi-threading, the overhead of testing was 0.000293 seconds.\n",
            "You can set `force_row_wise=true` to remove the overhead.\n",
            "And if memory is not enough, you can set `force_col_wise=true`.\n",
            "[LightGBM] [Info] Total Bins 183\n",
            "[LightGBM] [Info] Number of data points in the train set: 24439, number of used features: 31\n",
            "[LightGBM] [Info] Start training from score 116.627112\n",
            "RMSE-Train: 18.190226090345192\n",
            "RMSE-Test: 19.126197867149568\n",
            "Score-Train: 0.776333963441886\n",
            "Score-Test: 0.7545061765103911\n",
            "MedAE-Train: 13.038146291431786\n",
            "MedAE-Test: 13.39984457389194\n",
            "MeanAE-Train: 13.038146291431786\n",
            "MeanAE-Test: 13.39984457389194 \n",
            "\n",
            "CPU times: total: 1.16 s\n",
            "Wall time: 780 ms\n"
          ]
        },
        {
          "data": {
            "image/png": "[encoded data removed]",
            "text/plain": [
              "<Figure size 576x558 with 1 Axes>"
            ]
          },
          "metadata": {
            "needs_background": "light"
          },
          "output_type": "display_data"
        }
      ],
      "source": [
        "%%time\n",
        "# Fit a lightgbm Regressor model to the train dataset\n",
        "\n",
        "# Import lightgbm\n",
        "import lightgbm as lgbm\n",
        "\n",
        "# Instantiate the model\n",
        "lg = lgbm.LGBMRegressor()\n",
        "\n",
        "\n",
        "# Fit the model to the data\n",
        "lg.fit(X_train, y_train)\n",
        "\n",
        "\n",
        "# print score of the model\n",
        "print_score(lg)\n",
        "\n",
        "\n",
        "# visualizing the inportance of features.\n",
        "fig, ax = visualize_importance(lg.feature_importances_, X_train)\n",
        "\n"
      ]
    },
    {
      "cell_type": "markdown",
      "metadata": {
        "id": "YTu2baDaseB_"
      },
      "source": [
        "### Comparing all the model based on metric"
      ]
    },
    {
      "cell_type": "code",
      "execution_count": 55,
      "metadata": {
        "id": "8emQZJdEseB_"
      },
      "outputs": [],
      "source": [
        "# the libraries we need\n",
        "import sklearn.metrics as metrics\n",
        "from sklearn.model_selection import train_test_split\n",
        "def compare_models(models,names,X_train,y_train,X_test,y_test):\n",
        "\n",
        "\n",
        "    # now, create a list with the objects \n",
        "    data = {'Metric':['rmse','MedAE','MAE','R-squared']}\n",
        "    df_train = pd.DataFrame(data)\n",
        "    df_test = pd.DataFrame(data)\n",
        "\n",
        "    def rmse(x,y):\n",
        "      return math.sqrt(((x-y)**2).mean())\n",
        "\n",
        "\n",
        "    for (model,name) in zip(models,names):\n",
        "      y_pred= model.predict(X_test) # then predict on the test set\n",
        "      res = [rmse(model.predict(X_train), y_train),rmse(model.predict(X_test), y_test),\n",
        "                metrics.median_absolute_error(model.predict(X_train), y_train),metrics.median_absolute_error(model.predict(X_test), y_test),\n",
        "                metrics.mean_absolute_error(model.predict(X_train), y_train),metrics.mean_absolute_error(model.predict(X_test), y_test),\n",
        "                metrics.r2_score(model.predict(X_train), y_train),metrics.r2_score(model.predict(X_test), y_test)]\n",
        "      df_train[name] = [res[0], res[2], res[4], res[6]]\n",
        "      df_test[name] = [res[1], res[3], res[5], res[7]]\n",
        "    return df_train,df_test"
      ]
    },
    {
      "cell_type": "code",
      "execution_count": 57,
      "metadata": {
        "id": "enc2RVZuseB_"
      },
      "outputs": [],
      "source": [
        "# list of models object\n",
        "# list of models name\n",
        "models= [lg, DTR, rf, knnr, GBR, xgbr, AdaBoost]\n",
        "names = ['Lr', 'Dtree', 'Forest', 'Knn','GBR', 'Xboost', 'AdaBoost']\n",
        "comp_model_train,comp_model_test = compare_models(models,names,X_train,y_train,X_test,y_test)"
      ]
    },
    {
      "cell_type": "markdown",
      "metadata": {
        "id": "tj2HpWIYseB_"
      },
      "source": [
        "#### RMSE of all model on train and test data"
      ]
    },
    {
      "cell_type": "code",
      "execution_count": 62,
      "metadata": {
        "colab": {
          "base_uri": "https://localhost:8080/"
        },
        "id": "gUxTv0_EseCA",
        "outputId": "57f32628-d04b-4f12-fb5a-9c69f99a9ec7"
      },
      "outputs": [
        {
          "name": "stdout",
          "output_type": "stream",
          "text": [
            "  Metric         Lr     Dtree    Forest        Knn       GBR     Xboost  \\\n",
            "0   rmse  18.190226  1.872683  7.908692  18.432856  19.26741  15.933763   \n",
            "\n",
            "    AdaBoost  \n",
            "0  24.866527  \n"
          ]
        }
      ],
      "source": [
        "# printing rmse comparision of model on train and test\n",
        "\n",
        "print(comp_model_train[:1])\n"
      ]
    },
    {
      "cell_type": "markdown",
      "metadata": {
        "id": "K_R9Ka_AseCA"
      },
      "source": [
        "#### All metrics on train and test data"
      ]
    },
    {
      "cell_type": "code",
      "execution_count": 63,
      "metadata": {
        "colab": {
          "base_uri": "https://localhost:8080/",
          "height": 192
        },
        "id": "oMLRhYhMseCB",
        "outputId": "ab605958-c721-4711-d697-1ef5056528d2"
      },
      "outputs": [
        {
          "data": {
            "text/html": [
              "<div>\n",
              "<style scoped>\n",
              "    .dataframe tbody tr th:only-of-type {\n",
              "        vertical-align: middle;\n",
              "    }\n",
              "\n",
              "    .dataframe tbody tr th {\n",
              "        vertical-align: top;\n",
              "    }\n",
              "\n",
              "    .dataframe thead th {\n",
              "        text-align: right;\n",
              "    }\n",
              "</style>\n",
              "<table border=\"1\" class=\"dataframe\">\n",
              "  <thead>\n",
              "    <tr style=\"text-align: right;\">\n",
              "      <th></th>\n",
              "      <th>Metric</th>\n",
              "      <th>Lr</th>\n",
              "      <th>Dtree</th>\n",
              "      <th>Forest</th>\n",
              "      <th>Knn</th>\n",
              "      <th>GBR</th>\n",
              "      <th>Xboost</th>\n",
              "      <th>AdaBoost</th>\n",
              "    </tr>\n",
              "  </thead>\n",
              "  <tbody>\n",
              "    <tr>\n",
              "      <th>0</th>\n",
              "      <td>rmse</td>\n",
              "      <td>18.190226</td>\n",
              "      <td>1.872683</td>\n",
              "      <td>7.908692</td>\n",
              "      <td>18.432856</td>\n",
              "      <td>19.267410</td>\n",
              "      <td>15.933763</td>\n",
              "      <td>24.866527</td>\n",
              "    </tr>\n",
              "    <tr>\n",
              "      <th>1</th>\n",
              "      <td>MedAE</td>\n",
              "      <td>13.038146</td>\n",
              "      <td>0.000000</td>\n",
              "      <td>5.170000</td>\n",
              "      <td>11.800000</td>\n",
              "      <td>13.586894</td>\n",
              "      <td>11.237030</td>\n",
              "      <td>19.154984</td>\n",
              "    </tr>\n",
              "    <tr>\n",
              "      <th>2</th>\n",
              "      <td>MAE</td>\n",
              "      <td>14.807972</td>\n",
              "      <td>0.230356</td>\n",
              "      <td>6.232916</td>\n",
              "      <td>14.445722</td>\n",
              "      <td>15.569674</td>\n",
              "      <td>12.898327</td>\n",
              "      <td>20.775513</td>\n",
              "    </tr>\n",
              "    <tr>\n",
              "      <th>3</th>\n",
              "      <td>R-squared</td>\n",
              "      <td>0.701533</td>\n",
              "      <td>0.997624</td>\n",
              "      <td>0.950064</td>\n",
              "      <td>0.689289</td>\n",
              "      <td>0.618109</td>\n",
              "      <td>0.781734</td>\n",
              "      <td>0.154335</td>\n",
              "    </tr>\n",
              "  </tbody>\n",
              "</table>\n",
              "</div>"
            ],
            "text/plain": [
              "      Metric         Lr     Dtree    Forest        Knn        GBR     Xboost  \\\n",
              "0       rmse  18.190226  1.872683  7.908692  18.432856  19.267410  15.933763   \n",
              "1      MedAE  13.038146  0.000000  5.170000  11.800000  13.586894  11.237030   \n",
              "2        MAE  14.807972  0.230356  6.232916  14.445722  15.569674  12.898327   \n",
              "3  R-squared   0.701533  0.997624  0.950064   0.689289   0.618109   0.781734   \n",
              "\n",
              "    AdaBoost  \n",
              "0  24.866527  \n",
              "1  19.154984  \n",
              "2  20.775513  \n",
              "3   0.154335  "
            ]
          },
          "execution_count": 63,
          "metadata": {},
          "output_type": "execute_result"
        }
      ],
      "source": [
        "# printing comparision of model on train and test\n",
        "\n",
        "comp_model_train\n"
      ]
    },
    {
      "cell_type": "markdown",
      "metadata": {
        "id": "0_xNw3OwoI0O"
      },
      "source": [
        "## Hyperparameter Tunning\n",
        "\n",
        "A hyperparameter is a parameter whose value is set before the learning process begins.\n",
        "\n",
        "Hyperparameters tuning is crucial as they control the overall behavior of a machine learning model. \n",
        "\n",
        "Every machine learning models will have different hyperparameters that can be set."
      ]
    },
    {
      "cell_type": "markdown",
      "metadata": {
        "id": "lNXfkYR6seCB"
      },
      "source": [
        "### RamdomizedSearchCV"
      ]
    },
    {
      "cell_type": "markdown",
      "metadata": {
        "id": "-hLpl6xduL3p"
      },
      "source": [
        "RandomizedSearchCV is very useful when we have many parameters to try and the training time is very long.\n",
        " 1. The first step is to write the parameters that we want to consider\n",
        " 2. From these parameters select the best ones.(which are printed in output)"
      ]
    },
    {
      "cell_type": "code",
      "execution_count": null,
      "metadata": {
        "id": "5TLQOn_uoI0O"
      },
      "outputs": [],
      "source": [
        "# Helper function to perform hyper parameter tunning with RandomizedSearchCV\n",
        "def random_Search(model,X_train, Y_train,param_grid):\n",
        "  from sklearn.model_selection import RandomizedSearchCV\n",
        "\n",
        "  # Random search of parameters, using 3 fold cross validation, \n",
        "  # search across 100 different combinations, and use all available cores\n",
        "  random = \n",
        "  \n",
        "\n",
        "\n",
        "\n",
        "  "
      ]
    },
    {
      "cell_type": "code",
      "execution_count": null,
      "metadata": {
        "colab": {
          "base_uri": "https://localhost:8080/"
        },
        "id": "bhss8qN1oI0P",
        "outputId": "b6fa8f69-c805-49de-b9ec-6beb1b1bf3d1"
      },
      "outputs": [],
      "source": [
        "# create parameters dict for tunning\n",
        "rf_para_grid = {'n_estimators': [1, 2, 4, 8, 16, 32, 64, 100, 200],\n",
        "               'max_features': ['auto', 'sqrt'],\n",
        "               'max_depth': np.linspace(1, 32, 32, endpoint=True),\n",
        "               'min_samples_leaf': np.linspace(0.1, 0.5, 5, endpoint=True),\n",
        "               'bootstrap': [True, False]}\n",
        "\n",
        "# passing data for hyper parameter tunning with Randomized search cv\n",
        "\n",
        "\n",
        "\n"
      ]
    },
    {
      "cell_type": "code",
      "execution_count": null,
      "metadata": {
        "colab": {
          "base_uri": "https://localhost:8080/"
        },
        "id": "VIabALwiseCC",
        "outputId": "6e5c897d-3e9f-4e8e-cd54-9762d7c86056"
      },
      "outputs": [],
      "source": [
        "# Import GradientBoostingRegressor\n",
        "from sklearn.ensemble import GradientBoostingRegressor\n",
        "\n",
        "# create GradientBoostRegressor parameters dict for tunning\n",
        "GBR_para_grid = {\n",
        "'n_estimators':  [1, 2, 4, 8, 16, 32, 64, 100, 200], \n",
        " 'learning_rate' : [1, 0.5, 0.25, 0.1, 0.05, 0.01],\n",
        " 'max_depth': np.linspace(1, 32, 32, endpoint=True), \n",
        " 'min_samples_split': np.linspace(0.1, 1.0, 10, endpoint=True)\n",
        "}\n",
        "\n",
        "# passing data for hyper parameter tunning with Randomized search cv\n",
        "\n",
        "\n",
        "\n",
        "\n"
      ]
    },
    {
      "cell_type": "code",
      "execution_count": null,
      "metadata": {
        "colab": {
          "base_uri": "https://localhost:8080/"
        },
        "id": "ytccyieVseCD",
        "outputId": "14407a04-488e-43a7-bf7d-6073bd7001e2"
      },
      "outputs": [],
      "source": [
        "# create DecisionTreeRegressor parameters dict for tunning\n",
        "DTR_para_grid = {\n",
        "                  \"splitter\":[\"best\",\"random\"],\n",
        "            \"max_depth\" : np.linspace(1, 32, 32, endpoint=True),\n",
        "           \"min_samples_leaf\":np.linspace(0.1, 0.5, 5, endpoint=True),\n",
        "           \"min_weight_fraction_leaf\":[0.1,0.2,0.5,0.9],\n",
        "           \"max_features\":[\"auto\",\"log2\",\"sqrt\",None],\n",
        "           }\n",
        "\n",
        "# passing data for hyper parameter tunning with Randomized search cv\n",
        "\n",
        "\n",
        "\n"
      ]
    },
    {
      "cell_type": "code",
      "execution_count": null,
      "metadata": {
        "colab": {
          "base_uri": "https://localhost:8080/"
        },
        "id": "AItmwuYPseCD",
        "outputId": "5b2de119-0db7-4c8e-da98-3dabc8f17945"
      },
      "outputs": [],
      "source": [
        "from xgboost import XGBRegressor\n",
        "\n",
        "\n",
        "# create parameters dict for tunning\n",
        "XGB_para_grid = {\n",
        "    \"learning_rate\"    : [0.05, 0.10, 0.15] ,\n",
        " \"max_depth\"        : range(3,10,2),\n",
        " \"min_child_weight\" : range(1,6,2),\n",
        " \"gamma\"            : [ 0.0, 0.1, 0.2 ],\n",
        " \"colsample_bytree\" : [ 0.3, 0.4] \n",
        " }\n",
        "\n",
        "# passing data for hyper parameter tunning with Randomized search cv\n",
        "\n",
        "\n",
        "\n"
      ]
    },
    {
      "cell_type": "markdown",
      "metadata": {
        "id": "xcpHPuRdCaL7"
      },
      "source": [
        "## Using the best parameters and training the models"
      ]
    },
    {
      "cell_type": "markdown",
      "metadata": {
        "id": "9JIL6FaZCnDA"
      },
      "source": [
        "### Random Forest Regressor"
      ]
    },
    {
      "cell_type": "code",
      "execution_count": null,
      "metadata": {
        "colab": {
          "base_uri": "https://localhost:8080/",
          "height": 758
        },
        "id": "b5MeVTRnCgqr",
        "outputId": "f35b4c35-0510-4621-f614-79db67c05fa3"
      },
      "outputs": [],
      "source": [
        "%%time\n",
        "# Fit a Random Forest Regressor model to the train dataset\n",
        "\n",
        "# Instantiate the model\n",
        "rf= \n",
        "\n",
        "\n",
        "\n",
        "# Fit the model to the data\n",
        "\n",
        "\n",
        "\n",
        "# print score of the model\n",
        "\n",
        "\n",
        "\n",
        "# visualizing the inportance of features.\n",
        "fig, ax = \n",
        "\n",
        "\n"
      ]
    },
    {
      "cell_type": "markdown",
      "metadata": {
        "id": "U-5qOWsUDJwz"
      },
      "source": [
        "### Gradient Boosting Regressor"
      ]
    },
    {
      "cell_type": "code",
      "execution_count": null,
      "metadata": {
        "colab": {
          "base_uri": "https://localhost:8080/",
          "height": 758
        },
        "id": "gehdG2AFCguX",
        "outputId": "d60393bc-d2f3-4282-b56e-5284e7c9c521"
      },
      "outputs": [],
      "source": [
        "%%time\n",
        "# Import GradientBoostingRegressor\n",
        "from sklearn.ensemble import GradientBoostingRegressor\n",
        "\n",
        "# Fit a Gradient Boosting Regressor model to the train dataset\n",
        "\n",
        "# Instantiate the model\n",
        "GBR = \n",
        "\n",
        "\n",
        "\n",
        "\n",
        "\n",
        "# print score of the model\n",
        "\n",
        "\n",
        "\n",
        "# visualizing the inportance of features.\n",
        "fig, ax = \n",
        "\n"
      ]
    },
    {
      "cell_type": "markdown",
      "metadata": {
        "id": "o8__MVjVDb9b"
      },
      "source": [
        "### Decision Tree Regrsessor"
      ]
    },
    {
      "cell_type": "code",
      "execution_count": null,
      "metadata": {
        "colab": {
          "base_uri": "https://localhost:8080/"
        },
        "id": "VJk0bTSbCgyw",
        "outputId": "05425f9d-76ed-4251-fe20-5636892c870a"
      },
      "outputs": [],
      "source": [
        "%%time\n",
        "# Fit a Decision Tree Regressor model to the train dataset\n",
        "\n",
        "# Instantiate the model\n",
        "DTR = \n",
        "\n",
        "\n",
        "\n",
        "# Instantiate the model\n",
        "\n",
        "\n",
        "\n",
        "# print score of the model\n",
        "\n",
        "\n"
      ]
    },
    {
      "cell_type": "markdown",
      "metadata": {
        "id": "0POlWMhaDuOI"
      },
      "source": [
        "### XGBoost Regressor"
      ]
    },
    {
      "cell_type": "code",
      "execution_count": null,
      "metadata": {
        "colab": {
          "base_uri": "https://localhost:8080/",
          "height": 775
        },
        "id": "fu39YChlCg2i",
        "outputId": "6d09130e-2d56-453e-a32a-6fd724622874"
      },
      "outputs": [],
      "source": [
        "%%time\n",
        "# Fit a XGB Regressor model to the train dataset\n",
        "\n",
        "# Instantiate the model\n",
        "xgbr = \n",
        "\n",
        "\n",
        "\n",
        "# Fit the model to the data\n",
        "\n",
        "\n",
        "\n",
        "# print score of the model\n",
        "\n",
        "\n",
        "\n",
        "# visualizing the inportance of features.\n",
        "fig, ax = \n",
        "\n",
        "\n",
        "\n"
      ]
    },
    {
      "cell_type": "markdown",
      "metadata": {
        "id": "Zn6M12bKD9M_"
      },
      "source": [
        "## Comparing the metrics for tuned models"
      ]
    },
    {
      "cell_type": "code",
      "execution_count": null,
      "metadata": {
        "id": "DY_Ep3AfCg69"
      },
      "outputs": [],
      "source": [
        "models= [DTR, rf,GBR, xgbr]\n",
        "names = ['Dtree', 'Forest','GBR', 'Xboost']\n",
        "comp_model_train,comp_model_test = \n",
        "\n",
        "\n"
      ]
    },
    {
      "cell_type": "code",
      "execution_count": null,
      "metadata": {
        "colab": {
          "base_uri": "https://localhost:8080/",
          "height": 192
        },
        "id": "ZnVtcECIEA64",
        "outputId": "00f5d879-aaad-4b80-df4a-ee2746ca7c49"
      },
      "outputs": [],
      "source": [
        "print(\"Metrics on train data\")\n",
        "comp_model_train"
      ]
    },
    {
      "cell_type": "markdown",
      "metadata": {
        "id": "Dq2sHiagseCE"
      },
      "source": [
        "### Now working with the test dataset provided"
      ]
    },
    {
      "cell_type": "code",
      "execution_count": null,
      "metadata": {
        "colab": {
          "base_uri": "https://localhost:8080/",
          "height": 424
        },
        "id": "f65ChY0dseCE",
        "outputId": "934dfae4-eb4a-4516-959d-a43e7f16d49e"
      },
      "outputs": [],
      "source": [
        "# test data \n",
        "test_X = test_data\n",
        "test_X"
      ]
    },
    {
      "cell_type": "code",
      "execution_count": null,
      "metadata": {
        "id": "HIfspmcMseCF"
      },
      "outputs": [],
      "source": [
        "# passing test data for scaling\n",
        "col_test = ['yearsExperience','milesFromMetropolis']\n",
        "test_X = \n",
        "\n"
      ]
    },
    {
      "cell_type": "code",
      "execution_count": null,
      "metadata": {
        "colab": {
          "base_uri": "https://localhost:8080/",
          "height": 299
        },
        "id": "YRMSny8VoI0Q",
        "outputId": "783137f0-831a-4087-ab4a-5a7561a7206f"
      },
      "outputs": [],
      "source": [
        "# passing test dataset for one hot encoding process\n",
        "encoder = OneHotEncoder()\n",
        "test_drop = \n",
        "test_X = \n",
        "\n",
        "test_X = \n",
        "test_X = \n",
        "\n",
        "\n"
      ]
    },
    {
      "cell_type": "code",
      "execution_count": null,
      "metadata": {
        "colab": {
          "base_uri": "https://localhost:8080/"
        },
        "id": "Y_V4f8L7seCF",
        "outputId": "17621c7a-ddb5-474b-ea87-48bad325d726"
      },
      "outputs": [],
      "source": [
        "# Perforn the prediction on the test dataset\n",
        "y_predicted = \n",
        "\n",
        "\n",
        "\n",
        "\n"
      ]
    },
    {
      "cell_type": "code",
      "execution_count": null,
      "metadata": {
        "id": "IqpO2zrAseCF"
      },
      "outputs": [],
      "source": [
        "# creating a dataframe of predicted results \n",
        "predictions = \n",
        "\n"
      ]
    },
    {
      "cell_type": "code",
      "execution_count": null,
      "metadata": {
        "colab": {
          "base_uri": "https://localhost:8080/",
          "height": 424
        },
        "id": "P4r8hIneseCF",
        "outputId": "4f48d9af-0205-4330-c242-68214b78e8b7"
      },
      "outputs": [],
      "source": [
        "# predicted values in dataframe\n",
        "\n",
        "\n"
      ]
    },
    {
      "cell_type": "code",
      "execution_count": null,
      "metadata": {
        "id": "Wc9yyP3RsL7y"
      },
      "outputs": [],
      "source": []
    },
    {
      "cell_type": "markdown",
      "metadata": {
        "id": "OUIOkO3fJz2c"
      },
      "source": [
        "**Business Problem:**"
      ]
    },
    {
      "cell_type": "code",
      "execution_count": null,
      "metadata": {
        "colab": {
          "base_uri": "https://localhost:8080/",
          "height": 424
        },
        "id": "iI1S9UZqWshi",
        "outputId": "ddfdea30-8399-4871-e356-c60bfe00433e"
      },
      "outputs": [],
      "source": [
        "### we take same samples provided my the manager so that we can explain him the difference between the salary the person should be getting as the salary the person\n",
        "sample =\n",
        "\n",
        "\n"
      ]
    },
    {
      "cell_type": "code",
      "execution_count": null,
      "metadata": {
        "id": "rbJD7i7UNlCh"
      },
      "outputs": [],
      "source": [
        "train_cat = sample.iloc[:,0:4]   #categorical variables for sample\n",
        "\n",
        "#encodind the samples\n",
        "encoder = \n",
        "train_X = \n",
        "\n",
        "#processing the sample data\n",
        "train = \n",
        "\n",
        "#taking those samples whose salary is very less i.e the reason for employee resigning\n",
        "sample = \n",
        "\n",
        "\n",
        "\n",
        "#Preparing the x and y values\n",
        "x_sample = \n",
        "y_sample = \n",
        "\n",
        "\n",
        "\n",
        "# passing test data for scaling\n",
        "col_test = ['yearsExperience','milesFromMetropolis']\n",
        "sample_x = \n",
        "\n",
        "\n"
      ]
    },
    {
      "cell_type": "code",
      "execution_count": null,
      "metadata": {
        "colab": {
          "base_uri": "https://localhost:8080/"
        },
        "id": "46t9BMdGmveQ",
        "outputId": "48cd1598-e7b7-4a6e-d6be-1d0d7a8f0ff4"
      },
      "outputs": [],
      "source": [
        "#predicting the sample\n",
        "predicted_out = \n",
        "\n"
      ]
    },
    {
      "cell_type": "code",
      "execution_count": null,
      "metadata": {
        "colab": {
          "base_uri": "https://localhost:8080/"
        },
        "id": "hDMiRkXDmbcR",
        "outputId": "4525f5c8-c039-4480-a5cb-901724b100c6"
      },
      "outputs": [],
      "source": [
        "y_sample  #Real values"
      ]
    },
    {
      "cell_type": "markdown",
      "metadata": {
        "id": "JCURK4f9Ojpe"
      },
      "source": [
        "### As we can see the difference in values.\n",
        "\n",
        "**Example**: The last sample the real value is 58 but the model predicted it to be 74...This may be because the other competitors are offering him more as compared to the current salary..so he is leaving the company."
      ]
    },
    {
      "cell_type": "markdown",
      "metadata": {
        "id": "FRlIt0YGDb5e"
      },
      "source": [
        "**Here, we can clearly see a difference between the real salary given to the employee and the predicted salary which may be the probable reason for the employee to leave the company**"
      ]
    },
    {
      "cell_type": "markdown",
      "metadata": {
        "id": "t8U-KYk-Ue3l"
      },
      "source": [
        "## **`Insights`**:"
      ]
    },
    {
      "cell_type": "markdown",
      "metadata": {
        "id": "VsD729CoR5IJ"
      },
      "source": [
        "- ### Mr.Francis provides these following insignts to Mr. Andrew after working on the dataset provided:\n",
        "\n",
        "**1.Major employee of your company are not happy with the salary they are being provided..even if they have the required skills to do the job as compared to other competitors.**\n",
        "\n",
        "**2.The employee living in the metro cities are satisfied with the salaries they are receiving...but employee's living far from the city are not getting a satisfactory salary which is the most probable reason for them leaving the company.**\n",
        "\n",
        "    \n"
      ]
    },
    {
      "cell_type": "markdown",
      "metadata": {
        "id": "7uIUUsjfR5IJ"
      },
      "source": [
        "## **`solution`**:\n",
        "\n",
        "1. Either increase the salary of these employee's(if they have the required degree and major)\n",
        "\n",
        "2. Provide accomodation to people living in places far from city so that they are satisfied.\n",
        "\n",
        "3. provide appraisal or some token of appreciation to such employee's\n",
        "\n",
        "Note: take all the necessary steps to make the employee more loyal to the company"
      ]
    },
    {
      "cell_type": "markdown",
      "metadata": {
        "id": "eoFwv9nzR5IK"
      },
      "source": [
        "## **`QUESTION`**:\n",
        "\n",
        "**Mr. Pandey provides the detail of a new hired employee and asks us to predict a range of salary which the company can offer to that employee:**\n",
        "\n",
        "**job_type** = CTO\n",
        "\n",
        "**degree** = Masters\n",
        "\n",
        "**major** = Biology\n",
        "\n",
        "**industry** = Health\n",
        "\n",
        "**experience** = 17\n",
        "\n",
        "miles from **metropolis** = 9"
      ]
    },
    {
      "cell_type": "markdown",
      "metadata": {
        "id": "213f22dcR5IK"
      },
      "source": [
        "## **`SOLUTION`**:\n",
        "\n",
        "We will fit in these data points into the model and suppose the model provide us the answer as 180\n",
        "\n",
        "In this case we will basically provide the Manager with a range of salaries i.e\n",
        "\n",
        "We can offer him a salary range of 175-190 dollars"
      ]
    },
    {
      "cell_type": "markdown",
      "metadata": {
        "id": "-EhEeUOWilkY"
      },
      "source": [
        "## **`CONCLUSION`**:\n",
        "According to this model, the predicted value we got,\n",
        "matches with the actual target values. Does the model is performing well.\n",
        "Even though we use only 50000 samples, the model may perform much better when trained on complete dataset.\n",
        "We have performed EDA, preprocessing, buid different models, visualized feature importance, did hyper parameter tunning of each model and did prediction."
      ]
    },
    {
      "cell_type": "markdown",
      "metadata": {
        "id": "dqACX1s5ilg1"
      },
      "source": [
        "## Congratulation for completing the assignment.\n",
        "You have learned a lot while doing this assignment."
      ]
    }
  ],
  "metadata": {
    "accelerator": "GPU",
    "colab": {
      "collapsed_sections": [
        "f5ARlvYSoIz9",
        "f7HPmp72oIz_",
        "ZXkVodrHeQ8C"
      ],
      "provenance": []
    },
    "kernelspec": {
      "display_name": "Python 3",
      "language": "python",
      "name": "python3"
    },
    "language_info": {
      "codemirror_mode": {
        "name": "ipython",
        "version": 3
      },
      "file_extension": ".py",
      "mimetype": "text/x-python",
      "name": "python",
      "nbconvert_exporter": "python",
      "pygments_lexer": "ipython3",
      "version": "3.9.12"
    }
  },
  "nbformat": 4,
  "nbformat_minor": 0
}
